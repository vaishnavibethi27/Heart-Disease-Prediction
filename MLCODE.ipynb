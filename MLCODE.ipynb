{
 "cells": [
  {
   "cell_type": "code",
   "execution_count": 1,
   "id": "8031aae6-f9d4-4602-948e-6ace9772e8e0",
   "metadata": {},
   "outputs": [],
   "source": [
    "import numpy as np\n",
    "import pandas as pd\n",
    "import matplotlib.pyplot as plt\n",
    "import seaborn as sns"
   ]
  },
  {
   "cell_type": "code",
   "execution_count": 2,
   "id": "1599d00f-d355-4d18-a2d4-3faa09345fe1",
   "metadata": {},
   "outputs": [
    {
     "name": "stdout",
     "output_type": "stream",
     "text": [
      "['.ipynb_checkpoints', 'configure_accelerate.exe', 'convert-caffe2-to-onnx.exe', 'convert-onnx-to-caffe2.exe', 'datasets-cli.exe', 'django-admin.exe', 'estimator_ckpt_converter.exe', 'f2py.exe', 'flask.exe', 'fonttools.exe', 'get_gprof', 'get_objgraph', 'google-oauthlib-tool.exe', 'huggingface-cli.exe', 'import_pb_to_tensorboard.exe', 'ipython.exe', 'ipython3.exe', 'isympy.exe', 'jlpm.exe', 'jsonpointer', 'jsonschema.exe', 'jupyter-console.exe', 'jupyter-dejavu.exe', 'jupyter-events.exe', 'jupyter-execute.exe', 'jupyter-kernel.exe', 'jupyter-kernelspec.exe', 'jupyter-lab.exe', 'jupyter-labextension.exe', 'jupyter-labhub.exe', 'jupyter-migrate.exe', 'jupyter-nbconvert.exe', 'jupyter-notebook.exe', 'jupyter-qtconsole.exe', 'jupyter-run.exe', 'jupyter-server.exe', 'jupyter-troubleshoot.exe', 'jupyter-trust.exe', 'jupyter.exe', 'markdown_py.exe', 'normalizer.exe', 'pip.exe', 'pip3.11.exe', 'pip3.exe', 'pybabel.exe', 'pyftmerge.exe', 'pyftsubset.exe', 'pygmentize.exe', 'pyjson5.exe', 'pyrsa-decrypt.exe', 'pyrsa-encrypt.exe', 'pyrsa-keygen.exe', 'pyrsa-priv2pub.exe', 'pyrsa-sign.exe', 'pyrsa-verify.exe', 'pywin32_postinstall.py', 'pywin32_testall.py', 'qtpy.exe', 'saved_model_cli.exe', 'send2trash.exe', 'spacy.exe', 'sqlformat.exe', 'tensorboard.exe', 'tfds.exe', 'tflite_convert.exe', 'tf_upgrade_v2.exe', 'toco.exe', 'toco_from_protos.exe', 'torchrun.exe', 'tqdm.exe', 'transformers-cli.exe', 'ttx.exe', 'undill', 'Untitled.ipynb', 'Untitled1.ipynb', 'Untitled10.ipynb', 'Untitled11.ipynb', 'Untitled12.ipynb', 'Untitled13.ipynb', 'Untitled14.ipynb', 'Untitled15.ipynb', 'Untitled16.ipynb', 'Untitled17.ipynb', 'Untitled18.ipynb', 'Untitled19.ipynb', 'Untitled2.ipynb', 'Untitled20.ipynb', 'Untitled21.ipynb', 'Untitled22.ipynb', 'Untitled23.ipynb', 'Untitled3.ipynb', 'Untitled4.ipynb', 'Untitled5.ipynb', 'Untitled6.ipynb', 'Untitled7.ipynb', 'Untitled8.ipynb', 'Untitled9.ipynb', 'virtualenv.exe', 'weasel.exe', 'wheel.exe', 'wsdump.exe', '__pycache__']\n"
     ]
    }
   ],
   "source": [
    "%matplotlib inline\n",
    "import os\n",
    "print(os.listdir())\n",
    "import warnings\n",
    "warnings.filterwarnings('ignore')"
   ]
  },
  {
   "cell_type": "code",
   "execution_count": 3,
   "id": "4c954cc9-9348-405b-81fa-28518d1e7cfa",
   "metadata": {},
   "outputs": [],
   "source": [
    "dataset = pd.read_csv(\"E:/2024-2025/heart_decease/heart.csv\")"
   ]
  },
  {
   "cell_type": "code",
   "execution_count": 4,
   "id": "74c22fd3-8701-4ee6-b1cb-458c2deda7e4",
   "metadata": {},
   "outputs": [
    {
     "data": {
      "text/plain": [
       "pandas.core.frame.DataFrame"
      ]
     },
     "execution_count": 4,
     "metadata": {},
     "output_type": "execute_result"
    }
   ],
   "source": [
    "type(dataset)"
   ]
  },
  {
   "cell_type": "code",
   "execution_count": 5,
   "id": "74acabde-f5d6-474b-9753-e4c2c94b1489",
   "metadata": {},
   "outputs": [
    {
     "data": {
      "text/plain": [
       "(303, 14)"
      ]
     },
     "execution_count": 5,
     "metadata": {},
     "output_type": "execute_result"
    }
   ],
   "source": [
    "dataset.shape"
   ]
  },
  {
   "cell_type": "code",
   "execution_count": 6,
   "id": "7585014e-76a4-486b-9a2b-3418dc7c981a",
   "metadata": {},
   "outputs": [
    {
     "data": {
      "text/html": [
       "<div>\n",
       "<style scoped>\n",
       "    .dataframe tbody tr th:only-of-type {\n",
       "        vertical-align: middle;\n",
       "    }\n",
       "\n",
       "    .dataframe tbody tr th {\n",
       "        vertical-align: top;\n",
       "    }\n",
       "\n",
       "    .dataframe thead th {\n",
       "        text-align: right;\n",
       "    }\n",
       "</style>\n",
       "<table border=\"1\" class=\"dataframe\">\n",
       "  <thead>\n",
       "    <tr style=\"text-align: right;\">\n",
       "      <th></th>\n",
       "      <th>age</th>\n",
       "      <th>sex</th>\n",
       "      <th>cp</th>\n",
       "      <th>trestbps</th>\n",
       "      <th>chol</th>\n",
       "      <th>fbs</th>\n",
       "      <th>restecg</th>\n",
       "      <th>thalach</th>\n",
       "      <th>exang</th>\n",
       "      <th>oldpeak</th>\n",
       "      <th>slope</th>\n",
       "      <th>ca</th>\n",
       "      <th>thal</th>\n",
       "      <th>target</th>\n",
       "    </tr>\n",
       "  </thead>\n",
       "  <tbody>\n",
       "    <tr>\n",
       "      <th>0</th>\n",
       "      <td>63</td>\n",
       "      <td>1</td>\n",
       "      <td>3</td>\n",
       "      <td>145</td>\n",
       "      <td>233</td>\n",
       "      <td>1</td>\n",
       "      <td>0</td>\n",
       "      <td>150</td>\n",
       "      <td>0</td>\n",
       "      <td>2.3</td>\n",
       "      <td>0</td>\n",
       "      <td>0</td>\n",
       "      <td>1</td>\n",
       "      <td>1</td>\n",
       "    </tr>\n",
       "    <tr>\n",
       "      <th>1</th>\n",
       "      <td>37</td>\n",
       "      <td>1</td>\n",
       "      <td>2</td>\n",
       "      <td>130</td>\n",
       "      <td>250</td>\n",
       "      <td>0</td>\n",
       "      <td>1</td>\n",
       "      <td>187</td>\n",
       "      <td>0</td>\n",
       "      <td>3.5</td>\n",
       "      <td>0</td>\n",
       "      <td>0</td>\n",
       "      <td>2</td>\n",
       "      <td>1</td>\n",
       "    </tr>\n",
       "    <tr>\n",
       "      <th>2</th>\n",
       "      <td>41</td>\n",
       "      <td>0</td>\n",
       "      <td>1</td>\n",
       "      <td>130</td>\n",
       "      <td>204</td>\n",
       "      <td>0</td>\n",
       "      <td>0</td>\n",
       "      <td>172</td>\n",
       "      <td>0</td>\n",
       "      <td>1.4</td>\n",
       "      <td>2</td>\n",
       "      <td>0</td>\n",
       "      <td>2</td>\n",
       "      <td>1</td>\n",
       "    </tr>\n",
       "    <tr>\n",
       "      <th>3</th>\n",
       "      <td>56</td>\n",
       "      <td>1</td>\n",
       "      <td>1</td>\n",
       "      <td>120</td>\n",
       "      <td>236</td>\n",
       "      <td>0</td>\n",
       "      <td>1</td>\n",
       "      <td>178</td>\n",
       "      <td>0</td>\n",
       "      <td>0.8</td>\n",
       "      <td>2</td>\n",
       "      <td>0</td>\n",
       "      <td>2</td>\n",
       "      <td>1</td>\n",
       "    </tr>\n",
       "    <tr>\n",
       "      <th>4</th>\n",
       "      <td>57</td>\n",
       "      <td>0</td>\n",
       "      <td>0</td>\n",
       "      <td>120</td>\n",
       "      <td>354</td>\n",
       "      <td>0</td>\n",
       "      <td>1</td>\n",
       "      <td>163</td>\n",
       "      <td>1</td>\n",
       "      <td>0.6</td>\n",
       "      <td>2</td>\n",
       "      <td>0</td>\n",
       "      <td>2</td>\n",
       "      <td>1</td>\n",
       "    </tr>\n",
       "    <tr>\n",
       "      <th>5</th>\n",
       "      <td>57</td>\n",
       "      <td>1</td>\n",
       "      <td>0</td>\n",
       "      <td>140</td>\n",
       "      <td>192</td>\n",
       "      <td>0</td>\n",
       "      <td>1</td>\n",
       "      <td>148</td>\n",
       "      <td>0</td>\n",
       "      <td>0.4</td>\n",
       "      <td>1</td>\n",
       "      <td>0</td>\n",
       "      <td>1</td>\n",
       "      <td>1</td>\n",
       "    </tr>\n",
       "    <tr>\n",
       "      <th>6</th>\n",
       "      <td>56</td>\n",
       "      <td>0</td>\n",
       "      <td>1</td>\n",
       "      <td>140</td>\n",
       "      <td>294</td>\n",
       "      <td>0</td>\n",
       "      <td>0</td>\n",
       "      <td>153</td>\n",
       "      <td>0</td>\n",
       "      <td>1.3</td>\n",
       "      <td>1</td>\n",
       "      <td>0</td>\n",
       "      <td>2</td>\n",
       "      <td>1</td>\n",
       "    </tr>\n",
       "    <tr>\n",
       "      <th>7</th>\n",
       "      <td>44</td>\n",
       "      <td>1</td>\n",
       "      <td>1</td>\n",
       "      <td>120</td>\n",
       "      <td>263</td>\n",
       "      <td>0</td>\n",
       "      <td>1</td>\n",
       "      <td>173</td>\n",
       "      <td>0</td>\n",
       "      <td>0.0</td>\n",
       "      <td>2</td>\n",
       "      <td>0</td>\n",
       "      <td>3</td>\n",
       "      <td>1</td>\n",
       "    </tr>\n",
       "    <tr>\n",
       "      <th>8</th>\n",
       "      <td>52</td>\n",
       "      <td>1</td>\n",
       "      <td>2</td>\n",
       "      <td>172</td>\n",
       "      <td>199</td>\n",
       "      <td>1</td>\n",
       "      <td>1</td>\n",
       "      <td>162</td>\n",
       "      <td>0</td>\n",
       "      <td>0.5</td>\n",
       "      <td>2</td>\n",
       "      <td>0</td>\n",
       "      <td>3</td>\n",
       "      <td>1</td>\n",
       "    </tr>\n",
       "    <tr>\n",
       "      <th>9</th>\n",
       "      <td>57</td>\n",
       "      <td>1</td>\n",
       "      <td>2</td>\n",
       "      <td>150</td>\n",
       "      <td>168</td>\n",
       "      <td>0</td>\n",
       "      <td>1</td>\n",
       "      <td>174</td>\n",
       "      <td>0</td>\n",
       "      <td>1.6</td>\n",
       "      <td>2</td>\n",
       "      <td>0</td>\n",
       "      <td>2</td>\n",
       "      <td>1</td>\n",
       "    </tr>\n",
       "    <tr>\n",
       "      <th>10</th>\n",
       "      <td>54</td>\n",
       "      <td>1</td>\n",
       "      <td>0</td>\n",
       "      <td>140</td>\n",
       "      <td>239</td>\n",
       "      <td>0</td>\n",
       "      <td>1</td>\n",
       "      <td>160</td>\n",
       "      <td>0</td>\n",
       "      <td>1.2</td>\n",
       "      <td>2</td>\n",
       "      <td>0</td>\n",
       "      <td>2</td>\n",
       "      <td>1</td>\n",
       "    </tr>\n",
       "    <tr>\n",
       "      <th>11</th>\n",
       "      <td>48</td>\n",
       "      <td>0</td>\n",
       "      <td>2</td>\n",
       "      <td>130</td>\n",
       "      <td>275</td>\n",
       "      <td>0</td>\n",
       "      <td>1</td>\n",
       "      <td>139</td>\n",
       "      <td>0</td>\n",
       "      <td>0.2</td>\n",
       "      <td>2</td>\n",
       "      <td>0</td>\n",
       "      <td>2</td>\n",
       "      <td>1</td>\n",
       "    </tr>\n",
       "    <tr>\n",
       "      <th>12</th>\n",
       "      <td>49</td>\n",
       "      <td>1</td>\n",
       "      <td>1</td>\n",
       "      <td>130</td>\n",
       "      <td>266</td>\n",
       "      <td>0</td>\n",
       "      <td>1</td>\n",
       "      <td>171</td>\n",
       "      <td>0</td>\n",
       "      <td>0.6</td>\n",
       "      <td>2</td>\n",
       "      <td>0</td>\n",
       "      <td>2</td>\n",
       "      <td>1</td>\n",
       "    </tr>\n",
       "    <tr>\n",
       "      <th>13</th>\n",
       "      <td>64</td>\n",
       "      <td>1</td>\n",
       "      <td>3</td>\n",
       "      <td>110</td>\n",
       "      <td>211</td>\n",
       "      <td>0</td>\n",
       "      <td>0</td>\n",
       "      <td>144</td>\n",
       "      <td>1</td>\n",
       "      <td>1.8</td>\n",
       "      <td>1</td>\n",
       "      <td>0</td>\n",
       "      <td>2</td>\n",
       "      <td>1</td>\n",
       "    </tr>\n",
       "    <tr>\n",
       "      <th>14</th>\n",
       "      <td>58</td>\n",
       "      <td>0</td>\n",
       "      <td>3</td>\n",
       "      <td>150</td>\n",
       "      <td>283</td>\n",
       "      <td>1</td>\n",
       "      <td>0</td>\n",
       "      <td>162</td>\n",
       "      <td>0</td>\n",
       "      <td>1.0</td>\n",
       "      <td>2</td>\n",
       "      <td>0</td>\n",
       "      <td>2</td>\n",
       "      <td>1</td>\n",
       "    </tr>\n",
       "  </tbody>\n",
       "</table>\n",
       "</div>"
      ],
      "text/plain": [
       "    age  sex  cp  trestbps  chol  fbs  restecg  thalach  exang  oldpeak  \\\n",
       "0    63    1   3       145   233    1        0      150      0      2.3   \n",
       "1    37    1   2       130   250    0        1      187      0      3.5   \n",
       "2    41    0   1       130   204    0        0      172      0      1.4   \n",
       "3    56    1   1       120   236    0        1      178      0      0.8   \n",
       "4    57    0   0       120   354    0        1      163      1      0.6   \n",
       "5    57    1   0       140   192    0        1      148      0      0.4   \n",
       "6    56    0   1       140   294    0        0      153      0      1.3   \n",
       "7    44    1   1       120   263    0        1      173      0      0.0   \n",
       "8    52    1   2       172   199    1        1      162      0      0.5   \n",
       "9    57    1   2       150   168    0        1      174      0      1.6   \n",
       "10   54    1   0       140   239    0        1      160      0      1.2   \n",
       "11   48    0   2       130   275    0        1      139      0      0.2   \n",
       "12   49    1   1       130   266    0        1      171      0      0.6   \n",
       "13   64    1   3       110   211    0        0      144      1      1.8   \n",
       "14   58    0   3       150   283    1        0      162      0      1.0   \n",
       "\n",
       "    slope  ca  thal  target  \n",
       "0       0   0     1       1  \n",
       "1       0   0     2       1  \n",
       "2       2   0     2       1  \n",
       "3       2   0     2       1  \n",
       "4       2   0     2       1  \n",
       "5       1   0     1       1  \n",
       "6       1   0     2       1  \n",
       "7       2   0     3       1  \n",
       "8       2   0     3       1  \n",
       "9       2   0     2       1  \n",
       "10      2   0     2       1  \n",
       "11      2   0     2       1  \n",
       "12      2   0     2       1  \n",
       "13      1   0     2       1  \n",
       "14      2   0     2       1  "
      ]
     },
     "execution_count": 6,
     "metadata": {},
     "output_type": "execute_result"
    }
   ],
   "source": [
    "dataset.head(15)"
   ]
  },
  {
   "cell_type": "code",
   "execution_count": 7,
   "id": "e205e9e5-ab69-4524-9ff8-e9cce95e9526",
   "metadata": {},
   "outputs": [
    {
     "data": {
      "text/html": [
       "<div>\n",
       "<style scoped>\n",
       "    .dataframe tbody tr th:only-of-type {\n",
       "        vertical-align: middle;\n",
       "    }\n",
       "\n",
       "    .dataframe tbody tr th {\n",
       "        vertical-align: top;\n",
       "    }\n",
       "\n",
       "    .dataframe thead th {\n",
       "        text-align: right;\n",
       "    }\n",
       "</style>\n",
       "<table border=\"1\" class=\"dataframe\">\n",
       "  <thead>\n",
       "    <tr style=\"text-align: right;\">\n",
       "      <th></th>\n",
       "      <th>age</th>\n",
       "      <th>sex</th>\n",
       "      <th>cp</th>\n",
       "      <th>trestbps</th>\n",
       "      <th>chol</th>\n",
       "      <th>fbs</th>\n",
       "      <th>restecg</th>\n",
       "      <th>thalach</th>\n",
       "      <th>exang</th>\n",
       "      <th>oldpeak</th>\n",
       "      <th>slope</th>\n",
       "      <th>ca</th>\n",
       "      <th>thal</th>\n",
       "      <th>target</th>\n",
       "    </tr>\n",
       "  </thead>\n",
       "  <tbody>\n",
       "    <tr>\n",
       "      <th>183</th>\n",
       "      <td>58</td>\n",
       "      <td>1</td>\n",
       "      <td>2</td>\n",
       "      <td>112</td>\n",
       "      <td>230</td>\n",
       "      <td>0</td>\n",
       "      <td>0</td>\n",
       "      <td>165</td>\n",
       "      <td>0</td>\n",
       "      <td>2.5</td>\n",
       "      <td>1</td>\n",
       "      <td>1</td>\n",
       "      <td>3</td>\n",
       "      <td>0</td>\n",
       "    </tr>\n",
       "    <tr>\n",
       "      <th>287</th>\n",
       "      <td>57</td>\n",
       "      <td>1</td>\n",
       "      <td>1</td>\n",
       "      <td>154</td>\n",
       "      <td>232</td>\n",
       "      <td>0</td>\n",
       "      <td>0</td>\n",
       "      <td>164</td>\n",
       "      <td>0</td>\n",
       "      <td>0.0</td>\n",
       "      <td>2</td>\n",
       "      <td>1</td>\n",
       "      <td>2</td>\n",
       "      <td>0</td>\n",
       "    </tr>\n",
       "    <tr>\n",
       "      <th>240</th>\n",
       "      <td>70</td>\n",
       "      <td>1</td>\n",
       "      <td>2</td>\n",
       "      <td>160</td>\n",
       "      <td>269</td>\n",
       "      <td>0</td>\n",
       "      <td>1</td>\n",
       "      <td>112</td>\n",
       "      <td>1</td>\n",
       "      <td>2.9</td>\n",
       "      <td>1</td>\n",
       "      <td>1</td>\n",
       "      <td>3</td>\n",
       "      <td>0</td>\n",
       "    </tr>\n",
       "    <tr>\n",
       "      <th>255</th>\n",
       "      <td>45</td>\n",
       "      <td>1</td>\n",
       "      <td>0</td>\n",
       "      <td>142</td>\n",
       "      <td>309</td>\n",
       "      <td>0</td>\n",
       "      <td>0</td>\n",
       "      <td>147</td>\n",
       "      <td>1</td>\n",
       "      <td>0.0</td>\n",
       "      <td>1</td>\n",
       "      <td>3</td>\n",
       "      <td>3</td>\n",
       "      <td>0</td>\n",
       "    </tr>\n",
       "    <tr>\n",
       "      <th>58</th>\n",
       "      <td>34</td>\n",
       "      <td>1</td>\n",
       "      <td>3</td>\n",
       "      <td>118</td>\n",
       "      <td>182</td>\n",
       "      <td>0</td>\n",
       "      <td>0</td>\n",
       "      <td>174</td>\n",
       "      <td>0</td>\n",
       "      <td>0.0</td>\n",
       "      <td>2</td>\n",
       "      <td>0</td>\n",
       "      <td>2</td>\n",
       "      <td>1</td>\n",
       "    </tr>\n",
       "  </tbody>\n",
       "</table>\n",
       "</div>"
      ],
      "text/plain": [
       "     age  sex  cp  trestbps  chol  fbs  restecg  thalach  exang  oldpeak  \\\n",
       "183   58    1   2       112   230    0        0      165      0      2.5   \n",
       "287   57    1   1       154   232    0        0      164      0      0.0   \n",
       "240   70    1   2       160   269    0        1      112      1      2.9   \n",
       "255   45    1   0       142   309    0        0      147      1      0.0   \n",
       "58    34    1   3       118   182    0        0      174      0      0.0   \n",
       "\n",
       "     slope  ca  thal  target  \n",
       "183      1   1     3       0  \n",
       "287      2   1     2       0  \n",
       "240      1   1     3       0  \n",
       "255      1   3     3       0  \n",
       "58       2   0     2       1  "
      ]
     },
     "execution_count": 7,
     "metadata": {},
     "output_type": "execute_result"
    }
   ],
   "source": [
    "dataset.sample(5)"
   ]
  },
  {
   "cell_type": "code",
   "execution_count": 8,
   "id": "a56a1e26-93db-4be9-9ce3-eba04e58a484",
   "metadata": {},
   "outputs": [
    {
     "data": {
      "text/html": [
       "<div>\n",
       "<style scoped>\n",
       "    .dataframe tbody tr th:only-of-type {\n",
       "        vertical-align: middle;\n",
       "    }\n",
       "\n",
       "    .dataframe tbody tr th {\n",
       "        vertical-align: top;\n",
       "    }\n",
       "\n",
       "    .dataframe thead th {\n",
       "        text-align: right;\n",
       "    }\n",
       "</style>\n",
       "<table border=\"1\" class=\"dataframe\">\n",
       "  <thead>\n",
       "    <tr style=\"text-align: right;\">\n",
       "      <th></th>\n",
       "      <th>age</th>\n",
       "      <th>sex</th>\n",
       "      <th>cp</th>\n",
       "      <th>trestbps</th>\n",
       "      <th>chol</th>\n",
       "      <th>fbs</th>\n",
       "      <th>restecg</th>\n",
       "      <th>thalach</th>\n",
       "      <th>exang</th>\n",
       "      <th>oldpeak</th>\n",
       "      <th>slope</th>\n",
       "      <th>ca</th>\n",
       "      <th>thal</th>\n",
       "      <th>target</th>\n",
       "    </tr>\n",
       "  </thead>\n",
       "  <tbody>\n",
       "    <tr>\n",
       "      <th>count</th>\n",
       "      <td>303.000000</td>\n",
       "      <td>303.000000</td>\n",
       "      <td>303.000000</td>\n",
       "      <td>303.000000</td>\n",
       "      <td>303.000000</td>\n",
       "      <td>303.000000</td>\n",
       "      <td>303.000000</td>\n",
       "      <td>303.000000</td>\n",
       "      <td>303.000000</td>\n",
       "      <td>303.000000</td>\n",
       "      <td>303.000000</td>\n",
       "      <td>303.000000</td>\n",
       "      <td>303.000000</td>\n",
       "      <td>303.000000</td>\n",
       "    </tr>\n",
       "    <tr>\n",
       "      <th>mean</th>\n",
       "      <td>54.366337</td>\n",
       "      <td>0.683168</td>\n",
       "      <td>0.966997</td>\n",
       "      <td>131.623762</td>\n",
       "      <td>246.264026</td>\n",
       "      <td>0.148515</td>\n",
       "      <td>0.528053</td>\n",
       "      <td>149.646865</td>\n",
       "      <td>0.326733</td>\n",
       "      <td>1.039604</td>\n",
       "      <td>1.399340</td>\n",
       "      <td>0.729373</td>\n",
       "      <td>2.313531</td>\n",
       "      <td>0.544554</td>\n",
       "    </tr>\n",
       "    <tr>\n",
       "      <th>std</th>\n",
       "      <td>9.082101</td>\n",
       "      <td>0.466011</td>\n",
       "      <td>1.032052</td>\n",
       "      <td>17.538143</td>\n",
       "      <td>51.830751</td>\n",
       "      <td>0.356198</td>\n",
       "      <td>0.525860</td>\n",
       "      <td>22.905161</td>\n",
       "      <td>0.469794</td>\n",
       "      <td>1.161075</td>\n",
       "      <td>0.616226</td>\n",
       "      <td>1.022606</td>\n",
       "      <td>0.612277</td>\n",
       "      <td>0.498835</td>\n",
       "    </tr>\n",
       "    <tr>\n",
       "      <th>min</th>\n",
       "      <td>29.000000</td>\n",
       "      <td>0.000000</td>\n",
       "      <td>0.000000</td>\n",
       "      <td>94.000000</td>\n",
       "      <td>126.000000</td>\n",
       "      <td>0.000000</td>\n",
       "      <td>0.000000</td>\n",
       "      <td>71.000000</td>\n",
       "      <td>0.000000</td>\n",
       "      <td>0.000000</td>\n",
       "      <td>0.000000</td>\n",
       "      <td>0.000000</td>\n",
       "      <td>0.000000</td>\n",
       "      <td>0.000000</td>\n",
       "    </tr>\n",
       "    <tr>\n",
       "      <th>25%</th>\n",
       "      <td>47.500000</td>\n",
       "      <td>0.000000</td>\n",
       "      <td>0.000000</td>\n",
       "      <td>120.000000</td>\n",
       "      <td>211.000000</td>\n",
       "      <td>0.000000</td>\n",
       "      <td>0.000000</td>\n",
       "      <td>133.500000</td>\n",
       "      <td>0.000000</td>\n",
       "      <td>0.000000</td>\n",
       "      <td>1.000000</td>\n",
       "      <td>0.000000</td>\n",
       "      <td>2.000000</td>\n",
       "      <td>0.000000</td>\n",
       "    </tr>\n",
       "    <tr>\n",
       "      <th>50%</th>\n",
       "      <td>55.000000</td>\n",
       "      <td>1.000000</td>\n",
       "      <td>1.000000</td>\n",
       "      <td>130.000000</td>\n",
       "      <td>240.000000</td>\n",
       "      <td>0.000000</td>\n",
       "      <td>1.000000</td>\n",
       "      <td>153.000000</td>\n",
       "      <td>0.000000</td>\n",
       "      <td>0.800000</td>\n",
       "      <td>1.000000</td>\n",
       "      <td>0.000000</td>\n",
       "      <td>2.000000</td>\n",
       "      <td>1.000000</td>\n",
       "    </tr>\n",
       "    <tr>\n",
       "      <th>75%</th>\n",
       "      <td>61.000000</td>\n",
       "      <td>1.000000</td>\n",
       "      <td>2.000000</td>\n",
       "      <td>140.000000</td>\n",
       "      <td>274.500000</td>\n",
       "      <td>0.000000</td>\n",
       "      <td>1.000000</td>\n",
       "      <td>166.000000</td>\n",
       "      <td>1.000000</td>\n",
       "      <td>1.600000</td>\n",
       "      <td>2.000000</td>\n",
       "      <td>1.000000</td>\n",
       "      <td>3.000000</td>\n",
       "      <td>1.000000</td>\n",
       "    </tr>\n",
       "    <tr>\n",
       "      <th>max</th>\n",
       "      <td>77.000000</td>\n",
       "      <td>1.000000</td>\n",
       "      <td>3.000000</td>\n",
       "      <td>200.000000</td>\n",
       "      <td>564.000000</td>\n",
       "      <td>1.000000</td>\n",
       "      <td>2.000000</td>\n",
       "      <td>202.000000</td>\n",
       "      <td>1.000000</td>\n",
       "      <td>6.200000</td>\n",
       "      <td>2.000000</td>\n",
       "      <td>4.000000</td>\n",
       "      <td>3.000000</td>\n",
       "      <td>1.000000</td>\n",
       "    </tr>\n",
       "  </tbody>\n",
       "</table>\n",
       "</div>"
      ],
      "text/plain": [
       "              age         sex          cp    trestbps        chol         fbs  \\\n",
       "count  303.000000  303.000000  303.000000  303.000000  303.000000  303.000000   \n",
       "mean    54.366337    0.683168    0.966997  131.623762  246.264026    0.148515   \n",
       "std      9.082101    0.466011    1.032052   17.538143   51.830751    0.356198   \n",
       "min     29.000000    0.000000    0.000000   94.000000  126.000000    0.000000   \n",
       "25%     47.500000    0.000000    0.000000  120.000000  211.000000    0.000000   \n",
       "50%     55.000000    1.000000    1.000000  130.000000  240.000000    0.000000   \n",
       "75%     61.000000    1.000000    2.000000  140.000000  274.500000    0.000000   \n",
       "max     77.000000    1.000000    3.000000  200.000000  564.000000    1.000000   \n",
       "\n",
       "          restecg     thalach       exang     oldpeak       slope          ca  \\\n",
       "count  303.000000  303.000000  303.000000  303.000000  303.000000  303.000000   \n",
       "mean     0.528053  149.646865    0.326733    1.039604    1.399340    0.729373   \n",
       "std      0.525860   22.905161    0.469794    1.161075    0.616226    1.022606   \n",
       "min      0.000000   71.000000    0.000000    0.000000    0.000000    0.000000   \n",
       "25%      0.000000  133.500000    0.000000    0.000000    1.000000    0.000000   \n",
       "50%      1.000000  153.000000    0.000000    0.800000    1.000000    0.000000   \n",
       "75%      1.000000  166.000000    1.000000    1.600000    2.000000    1.000000   \n",
       "max      2.000000  202.000000    1.000000    6.200000    2.000000    4.000000   \n",
       "\n",
       "             thal      target  \n",
       "count  303.000000  303.000000  \n",
       "mean     2.313531    0.544554  \n",
       "std      0.612277    0.498835  \n",
       "min      0.000000    0.000000  \n",
       "25%      2.000000    0.000000  \n",
       "50%      2.000000    1.000000  \n",
       "75%      3.000000    1.000000  \n",
       "max      3.000000    1.000000  "
      ]
     },
     "execution_count": 8,
     "metadata": {},
     "output_type": "execute_result"
    }
   ],
   "source": [
    "dataset.describe()"
   ]
  },
  {
   "cell_type": "code",
   "execution_count": 9,
   "id": "15bbf6c9-c85e-4526-83d4-15890995ab8f",
   "metadata": {},
   "outputs": [
    {
     "name": "stdout",
     "output_type": "stream",
     "text": [
      "<class 'pandas.core.frame.DataFrame'>\n",
      "RangeIndex: 303 entries, 0 to 302\n",
      "Data columns (total 14 columns):\n",
      " #   Column    Non-Null Count  Dtype  \n",
      "---  ------    --------------  -----  \n",
      " 0   age       303 non-null    int64  \n",
      " 1   sex       303 non-null    int64  \n",
      " 2   cp        303 non-null    int64  \n",
      " 3   trestbps  303 non-null    int64  \n",
      " 4   chol      303 non-null    int64  \n",
      " 5   fbs       303 non-null    int64  \n",
      " 6   restecg   303 non-null    int64  \n",
      " 7   thalach   303 non-null    int64  \n",
      " 8   exang     303 non-null    int64  \n",
      " 9   oldpeak   303 non-null    float64\n",
      " 10  slope     303 non-null    int64  \n",
      " 11  ca        303 non-null    int64  \n",
      " 12  thal      303 non-null    int64  \n",
      " 13  target    303 non-null    int64  \n",
      "dtypes: float64(1), int64(13)\n",
      "memory usage: 33.3 KB\n"
     ]
    }
   ],
   "source": [
    "dataset.info()"
   ]
  },
  {
   "cell_type": "code",
   "execution_count": 10,
   "id": "0e5a7062-cf8f-45eb-a9c7-ea884aa40c45",
   "metadata": {},
   "outputs": [
    {
     "name": "stdout",
     "output_type": "stream",
     "text": [
      "age:\t\t\tage\n",
      "sex:\t\t\t1: male, 0: female\n",
      "cp:\t\t\tchest pain type, 1: typical angina, 2: atypical angina, 3: non-anginal pain, 4: asymptomatic\n",
      "trestbps:\t\t\tresting blood pressure\n",
      "chol:\t\t\t serum cholestoral in mg/dl\n",
      "fbs:\t\t\tfasting blood sugar > 120 mg/dl\n",
      "restecg:\t\t\tresting electrocardiographic results (values 0,1,2)\n",
      "thalach:\t\t\t maximum heart rate achieved\n",
      "exang:\t\t\texercise induced angina\n",
      "oldpeak:\t\t\toldpeak = ST depression induced by exercise relative to rest\n",
      "slope:\t\t\tthe slope of the peak exercise ST segment\n",
      "ca:\t\t\tnumber of major vessels (0-3) colored by flourosopy\n",
      "thal:\t\t\tthal: 3 = normal; 6 = fixed defect; 7 = reversable defect\n"
     ]
    }
   ],
   "source": [
    "info = [\"age\",\"1: male, 0: female\",\"chest pain type, 1: typical angina, 2: atypical angina, 3: non-anginal pain, 4: asymptomatic\",\"resting blood pressure\",\" serum cholestoral in mg/dl\",\"fasting blood sugar > 120 mg/dl\",\"resting electrocardiographic results (values 0,1,2)\",\" maximum heart rate achieved\",\"exercise induced angina\",\"oldpeak = ST depression induced by exercise relative to rest\",\"the slope of the peak exercise ST segment\",\"number of major vessels (0-3) colored by flourosopy\",\"thal: 3 = normal; 6 = fixed defect; 7 = reversable defect\"]\n",
    "for i in range(len(info)):\n",
    "    print(dataset.columns[i]+\":\\t\\t\\t\"+info[i])"
   ]
  },
  {
   "cell_type": "code",
   "execution_count": 11,
   "id": "66ed052f-4325-4e7c-b214-94e1ba65224b",
   "metadata": {},
   "outputs": [
    {
     "data": {
      "text/plain": [
       "count    303.000000\n",
       "mean       0.544554\n",
       "std        0.498835\n",
       "min        0.000000\n",
       "25%        0.000000\n",
       "50%        1.000000\n",
       "75%        1.000000\n",
       "max        1.000000\n",
       "Name: target, dtype: float64"
      ]
     },
     "execution_count": 11,
     "metadata": {},
     "output_type": "execute_result"
    }
   ],
   "source": [
    "dataset[\"target\"].describe()"
   ]
  },
  {
   "cell_type": "code",
   "execution_count": 12,
   "id": "5b0528cb-8236-47b4-aefb-8be0a8c4fc16",
   "metadata": {},
   "outputs": [
    {
     "data": {
      "text/plain": [
       "array([1, 0], dtype=int64)"
      ]
     },
     "execution_count": 12,
     "metadata": {},
     "output_type": "execute_result"
    }
   ],
   "source": [
    "dataset[\"target\"].unique()"
   ]
  },
  {
   "cell_type": "code",
   "execution_count": 13,
   "id": "02c8762f-f9b8-482d-9ab3-9fb89b58f6ae",
   "metadata": {},
   "outputs": [
    {
     "name": "stdout",
     "output_type": "stream",
     "text": [
      "target      1.000000\n",
      "exang       0.436757\n",
      "cp          0.433798\n",
      "oldpeak     0.430696\n",
      "thalach     0.421741\n",
      "ca          0.391724\n",
      "slope       0.345877\n",
      "thal        0.344029\n",
      "sex         0.280937\n",
      "age         0.225439\n",
      "trestbps    0.144931\n",
      "restecg     0.137230\n",
      "chol        0.085239\n",
      "fbs         0.028046\n",
      "Name: target, dtype: float64\n"
     ]
    }
   ],
   "source": [
    "print(dataset.corr()[\"target\"].abs().sort_values(ascending=False))"
   ]
  },
  {
   "cell_type": "code",
   "execution_count": 15,
   "id": "903d2f4f-cec6-400a-9cf5-f661adc55367",
   "metadata": {},
   "outputs": [
    {
     "name": "stdout",
     "output_type": "stream",
     "text": [
      "target\n",
      "1    165\n",
      "0    138\n",
      "Name: count, dtype: int64\n"
     ]
    },
    {
     "data": {
      "image/png": "[encoded data removed]",
      "text/plain": [
       "<Figure size 640x480 with 1 Axes>"
      ]
     },
     "metadata": {},
     "output_type": "display_data"
    }
   ],
   "source": [
    "sns.countplot(x='target',data=dataset)\n",
    "target_temp = dataset.target.value_counts()\n",
    "print(target_temp)"
   ]
  },
  {
   "cell_type": "code",
   "execution_count": 16,
   "id": "b25f9c52-c1e8-4c6c-8f92-4e4807e634f2",
   "metadata": {},
   "outputs": [
    {
     "name": "stdout",
     "output_type": "stream",
     "text": [
      "Percentage of patience without heart problems: 45.54\n",
      "Percentage of patience with heart problems: 54.46\n"
     ]
    }
   ],
   "source": [
    "print(\"Percentage of patience without heart problems: \"+str(round(target_temp[0]*100/303,2)))\n",
    "print(\"Percentage of patience with heart problems: \"+str(round(target_temp[1]*100/303,2)))"
   ]
  },
  {
   "cell_type": "code",
   "execution_count": 17,
   "id": "9352fd77-9ffa-434c-9231-a33656863923",
   "metadata": {},
   "outputs": [
    {
     "data": {
      "text/plain": [
       "array([1, 0], dtype=int64)"
      ]
     },
     "execution_count": 17,
     "metadata": {},
     "output_type": "execute_result"
    }
   ],
   "source": [
    "dataset[\"sex\"].unique()"
   ]
  },
  {
   "cell_type": "code",
   "execution_count": 18,
   "id": "0f2d33dd-b18d-4efa-a8e3-9fd147117569",
   "metadata": {},
   "outputs": [
    {
     "data": {
      "text/plain": [
       "<Axes: xlabel='sex', ylabel='count'>"
      ]
     },
     "execution_count": 18,
     "metadata": {},
     "output_type": "execute_result"
    },
    {
     "data": {
      "image/png": "[encoded data removed]",
      "text/plain": [
       "<Figure size 640x480 with 1 Axes>"
      ]
     },
     "metadata": {},
     "output_type": "display_data"
    }
   ],
   "source": [
    "sns.countplot(x='sex',data=dataset)\n"
   ]
  },
  {
   "cell_type": "code",
   "execution_count": 19,
   "id": "e5e0214a-1545-47e1-a038-41c82debeb8b",
   "metadata": {},
   "outputs": [
    {
     "data": {
      "text/plain": [
       "array([3, 2, 1, 0], dtype=int64)"
      ]
     },
     "execution_count": 19,
     "metadata": {},
     "output_type": "execute_result"
    }
   ],
   "source": [
    "dataset[\"cp\"].unique()"
   ]
  },
  {
   "cell_type": "code",
   "execution_count": 20,
   "id": "29db06bc-d7f2-4864-8738-8b13ae87c7d3",
   "metadata": {},
   "outputs": [
    {
     "data": {
      "text/plain": [
       "<Axes: xlabel='cp', ylabel='count'>"
      ]
     },
     "execution_count": 20,
     "metadata": {},
     "output_type": "execute_result"
    },
    {
     "data": {
      "image/png": "[encoded data removed]",
      "text/plain": [
       "<Figure size 640x480 with 1 Axes>"
      ]
     },
     "metadata": {},
     "output_type": "display_data"
    }
   ],
   "source": [
    "sns.countplot(x='cp',data=dataset)"
   ]
  },
  {
   "cell_type": "code",
   "execution_count": 21,
   "id": "b5f5f13d-53c2-47d6-a316-3ea4baa833f6",
   "metadata": {},
   "outputs": [
    {
     "data": {
      "text/plain": [
       "count    303.000000\n",
       "mean       0.148515\n",
       "std        0.356198\n",
       "min        0.000000\n",
       "25%        0.000000\n",
       "50%        0.000000\n",
       "75%        0.000000\n",
       "max        1.000000\n",
       "Name: fbs, dtype: float64"
      ]
     },
     "execution_count": 21,
     "metadata": {},
     "output_type": "execute_result"
    }
   ],
   "source": [
    "dataset[\"fbs\"].describe()"
   ]
  },
  {
   "cell_type": "code",
   "execution_count": 22,
   "id": "b4655f00-db7d-4d6e-80bc-a913531727c2",
   "metadata": {},
   "outputs": [
    {
     "data": {
      "text/plain": [
       "array([1, 0], dtype=int64)"
      ]
     },
     "execution_count": 22,
     "metadata": {},
     "output_type": "execute_result"
    }
   ],
   "source": [
    "dataset[\"fbs\"].unique()"
   ]
  },
  {
   "cell_type": "code",
   "execution_count": 23,
   "id": "1f8e32ba-62c6-4273-881a-26a8d11f14b4",
   "metadata": {},
   "outputs": [
    {
     "data": {
      "text/plain": [
       "<Axes: xlabel='fbs', ylabel='count'>"
      ]
     },
     "execution_count": 23,
     "metadata": {},
     "output_type": "execute_result"
    },
    {
     "data": {
      "image/png": "[encoded data removed]",
      "text/plain": [
       "<Figure size 640x480 with 1 Axes>"
      ]
     },
     "metadata": {},
     "output_type": "display_data"
    }
   ],
   "source": [
    "sns.countplot(x='fbs',data=dataset)"
   ]
  },
  {
   "cell_type": "code",
   "execution_count": 24,
   "id": "1ea198cc-77f4-42ee-ba1e-9dc24f28cacf",
   "metadata": {},
   "outputs": [
    {
     "data": {
      "text/plain": [
       "array([0, 1, 2], dtype=int64)"
      ]
     },
     "execution_count": 24,
     "metadata": {},
     "output_type": "execute_result"
    }
   ],
   "source": [
    "dataset[\"restecg\"].unique()"
   ]
  },
  {
   "cell_type": "code",
   "execution_count": 25,
   "id": "95872f3f-7e79-46a5-9e89-18825ba80dc8",
   "metadata": {},
   "outputs": [
    {
     "data": {
      "text/plain": [
       "<Axes: xlabel='restecg', ylabel='count'>"
      ]
     },
     "execution_count": 25,
     "metadata": {},
     "output_type": "execute_result"
    },
    {
     "data": {
      "image/png": "[encoded data removed]",
      "text/plain": [
       "<Figure size 640x480 with 1 Axes>"
      ]
     },
     "metadata": {},
     "output_type": "display_data"
    }
   ],
   "source": [
    "sns.countplot(x='restecg',data=dataset)"
   ]
  },
  {
   "cell_type": "code",
   "execution_count": 26,
   "id": "01d208f1-1732-4e91-b473-98b23784d4d8",
   "metadata": {},
   "outputs": [
    {
     "data": {
      "text/plain": [
       "array([0, 1], dtype=int64)"
      ]
     },
     "execution_count": 26,
     "metadata": {},
     "output_type": "execute_result"
    }
   ],
   "source": [
    "dataset[\"exang\"].unique()"
   ]
  },
  {
   "cell_type": "code",
   "execution_count": 27,
   "id": "b4c91393-0922-4145-a8a9-5e66ca3568eb",
   "metadata": {},
   "outputs": [
    {
     "data": {
      "text/plain": [
       "<Axes: xlabel='exang', ylabel='count'>"
      ]
     },
     "execution_count": 27,
     "metadata": {},
     "output_type": "execute_result"
    },
    {
     "data": {
      "image/png": "[encoded data removed]",
      "text/plain": [
       "<Figure size 640x480 with 1 Axes>"
      ]
     },
     "metadata": {},
     "output_type": "display_data"
    }
   ],
   "source": [
    "sns.countplot(x='exang',data=dataset)"
   ]
  },
  {
   "cell_type": "code",
   "execution_count": 28,
   "id": "10fd08da-7b54-43ae-9c77-29b589873d99",
   "metadata": {},
   "outputs": [
    {
     "data": {
      "text/plain": [
       "array([0, 2, 1], dtype=int64)"
      ]
     },
     "execution_count": 28,
     "metadata": {},
     "output_type": "execute_result"
    }
   ],
   "source": [
    "dataset[\"slope\"].unique()"
   ]
  },
  {
   "cell_type": "code",
   "execution_count": 29,
   "id": "69fc08c1-9b45-4e0b-8b47-8f61ac4797e2",
   "metadata": {},
   "outputs": [
    {
     "data": {
      "text/plain": [
       "<Axes: xlabel='slope', ylabel='count'>"
      ]
     },
     "execution_count": 29,
     "metadata": {},
     "output_type": "execute_result"
    },
    {
     "data": {
      "image/png": "[encoded data removed]",
      "text/plain": [
       "<Figure size 640x480 with 1 Axes>"
      ]
     },
     "metadata": {},
     "output_type": "display_data"
    }
   ],
   "source": [
    "sns.countplot(x='slope',data=dataset)"
   ]
  },
  {
   "cell_type": "code",
   "execution_count": 30,
   "id": "426e1b40-71d5-4dfd-8942-889110d67d60",
   "metadata": {},
   "outputs": [
    {
     "data": {
      "text/plain": [
       "array([0, 2, 1, 3, 4], dtype=int64)"
      ]
     },
     "execution_count": 30,
     "metadata": {},
     "output_type": "execute_result"
    }
   ],
   "source": [
    "dataset[\"ca\"].unique()"
   ]
  },
  {
   "cell_type": "code",
   "execution_count": 31,
   "id": "94218d96-f9a0-400f-8c68-9e2d3a4e44e1",
   "metadata": {},
   "outputs": [
    {
     "data": {
      "text/plain": [
       "<Axes: xlabel='ca', ylabel='count'>"
      ]
     },
     "execution_count": 31,
     "metadata": {},
     "output_type": "execute_result"
    },
    {
     "data": {
      "image/png": "[encoded data removed]",
      "text/plain": [
       "<Figure size 640x480 with 1 Axes>"
      ]
     },
     "metadata": {},
     "output_type": "display_data"
    }
   ],
   "source": [
    "sns.countplot(x='ca',data=dataset)"
   ]
  },
  {
   "cell_type": "code",
   "execution_count": 32,
   "id": "251aeae4-e23d-4912-b40e-ebac0c5d1945",
   "metadata": {},
   "outputs": [
    {
     "data": {
      "text/plain": [
       "array([1, 2, 3, 0], dtype=int64)"
      ]
     },
     "execution_count": 32,
     "metadata": {},
     "output_type": "execute_result"
    }
   ],
   "source": [
    "dataset[\"thal\"].unique()"
   ]
  },
  {
   "cell_type": "code",
   "execution_count": 33,
   "id": "c0002e6a-893b-4e0b-9615-5eca3f3f1eb2",
   "metadata": {},
   "outputs": [
    {
     "data": {
      "text/plain": [
       "<Axes: xlabel='thal', ylabel='count'>"
      ]
     },
     "execution_count": 33,
     "metadata": {},
     "output_type": "execute_result"
    },
    {
     "data": {
      "image/png": "[encoded data removed]",
      "text/plain": [
       "<Figure size 640x480 with 1 Axes>"
      ]
     },
     "metadata": {},
     "output_type": "display_data"
    }
   ],
   "source": [
    "sns.countplot(x='thal',data=dataset)"
   ]
  },
  {
   "cell_type": "code",
   "execution_count": 34,
   "id": "565fac20-2c47-487d-89bb-0abd33dab8f4",
   "metadata": {},
   "outputs": [
    {
     "data": {
      "text/plain": [
       "<Axes: xlabel='thal', ylabel='Density'>"
      ]
     },
     "execution_count": 34,
     "metadata": {},
     "output_type": "execute_result"
    },
    {
     "data": {
      "image/png": "[encoded data removed]",
      "text/plain": [
       "<Figure size 640x480 with 1 Axes>"
      ]
     },
     "metadata": {},
     "output_type": "display_data"
    }
   ],
   "source": [
    "sns.distplot(dataset[\"thal\"])"
   ]
  },
  {
   "cell_type": "code",
   "execution_count": 35,
   "id": "9faf6dd9-2718-4089-b6cc-42403b9008d9",
   "metadata": {},
   "outputs": [],
   "source": [
    "from sklearn.model_selection import train_test_split\n",
    "predictors = dataset.drop(\"target\",axis=1)\n",
    "target = dataset[\"target\"]\n",
    "X_train,X_test,Y_train,Y_test = train_test_split(predictors,target,test_size=0.20,random_state=0)"
   ]
  },
  {
   "cell_type": "code",
   "execution_count": 36,
   "id": "a92f7f60-d309-42b9-9607-165a97a19e17",
   "metadata": {},
   "outputs": [
    {
     "data": {
      "text/plain": [
       "(242, 13)"
      ]
     },
     "execution_count": 36,
     "metadata": {},
     "output_type": "execute_result"
    }
   ],
   "source": [
    "X_train.shape"
   ]
  },
  {
   "cell_type": "code",
   "execution_count": 37,
   "id": "2fe8c7f9-fdab-4ae8-af5e-6bde4113db50",
   "metadata": {},
   "outputs": [
    {
     "data": {
      "text/plain": [
       "(61, 13)"
      ]
     },
     "execution_count": 37,
     "metadata": {},
     "output_type": "execute_result"
    }
   ],
   "source": [
    "X_test.shape"
   ]
  },
  {
   "cell_type": "code",
   "execution_count": 38,
   "id": "5f714cf6-36ac-47d8-8d42-60c60b36c794",
   "metadata": {},
   "outputs": [
    {
     "data": {
      "text/plain": [
       "(242,)"
      ]
     },
     "execution_count": 38,
     "metadata": {},
     "output_type": "execute_result"
    }
   ],
   "source": [
    "Y_train.shape"
   ]
  },
  {
   "cell_type": "code",
   "execution_count": 39,
   "id": "4394218e-a3ae-40c1-8b10-75349d25084a",
   "metadata": {},
   "outputs": [
    {
     "data": {
      "text/plain": [
       "(61,)"
      ]
     },
     "execution_count": 39,
     "metadata": {},
     "output_type": "execute_result"
    }
   ],
   "source": [
    "Y_test.shape"
   ]
  },
  {
   "cell_type": "code",
   "execution_count": 40,
   "id": "5f243afe-b5b4-46cc-ad86-cbc621f0fc1b",
   "metadata": {},
   "outputs": [],
   "source": [
    "from sklearn.metrics import accuracy_score"
   ]
  },
  {
   "cell_type": "markdown",
   "id": "ccda8691-edc9-4f4c-904c-6ee5e7b8f450",
   "metadata": {},
   "source": [
    "LOGISTIC REGRESSION\n"
   ]
  },
  {
   "cell_type": "code",
   "execution_count": 42,
   "id": "c19d7b82-61a6-44b7-acb8-08902bbe8cda",
   "metadata": {},
   "outputs": [],
   "source": [
    "from sklearn.linear_model import LogisticRegression\n",
    "lr = LogisticRegression()\n",
    "lr.fit(X_train,Y_train)\n",
    "Y_pred_lr = lr.predict(X_test)"
   ]
  },
  {
   "cell_type": "code",
   "execution_count": 43,
   "id": "255bbf4a-6a34-4b20-ad47-06a9ac96f65c",
   "metadata": {},
   "outputs": [
    {
     "data": {
      "text/plain": [
       "(61,)"
      ]
     },
     "execution_count": 43,
     "metadata": {},
     "output_type": "execute_result"
    }
   ],
   "source": [
    "Y_pred_lr.shape"
   ]
  },
  {
   "cell_type": "code",
   "execution_count": 44,
   "id": "dc387c95-89dc-4dfb-bfd7-dcbab1a9bc40",
   "metadata": {},
   "outputs": [
    {
     "name": "stdout",
     "output_type": "stream",
     "text": [
      "The accuracy score achieved using Logistic Regression is: 85.25 %\n"
     ]
    }
   ],
   "source": [
    "score_lr = round(accuracy_score(Y_pred_lr,Y_test)*100,2)\n",
    "\n",
    "print(\"The accuracy score achieved using Logistic Regression is: \"+str(score_lr)+\" %\")"
   ]
  },
  {
   "cell_type": "markdown",
   "id": "24f2aead-36ba-4a50-a4d5-9ec8b8d78def",
   "metadata": {},
   "source": [
    "Naive Bayes"
   ]
  },
  {
   "cell_type": "code",
   "execution_count": 45,
   "id": "aff2978d-7ac5-4308-ad11-b5b3a43738c0",
   "metadata": {},
   "outputs": [],
   "source": [
    "from sklearn.naive_bayes import GaussianNB\n",
    "\n",
    "nb = GaussianNB()\n",
    "\n",
    "nb.fit(X_train,Y_train)\n",
    "\n",
    "Y_pred_nb = nb.predict(X_test)"
   ]
  },
  {
   "cell_type": "code",
   "execution_count": 46,
   "id": "b78485d0-6c05-4005-a518-4654a0ca4006",
   "metadata": {},
   "outputs": [
    {
     "data": {
      "text/plain": [
       "(61,)"
      ]
     },
     "execution_count": 46,
     "metadata": {},
     "output_type": "execute_result"
    }
   ],
   "source": [
    "Y_pred_nb.shape"
   ]
  },
  {
   "cell_type": "code",
   "execution_count": 47,
   "id": "3466b97b-6c8b-4d73-a2e3-323f267e9d68",
   "metadata": {},
   "outputs": [
    {
     "name": "stdout",
     "output_type": "stream",
     "text": [
      "The accuracy score achieved using Naive Bayes is: 85.25 %\n"
     ]
    }
   ],
   "source": [
    "score_nb = round(accuracy_score(Y_pred_nb,Y_test)*100,2)\n",
    "\n",
    "print(\"The accuracy score achieved using Naive Bayes is: \"+str(score_nb)+\" %\")"
   ]
  },
  {
   "cell_type": "code",
   "execution_count": null,
   "id": "d1f9a473-98c1-415e-8a72-66c3bd59dd4d",
   "metadata": {},
   "outputs": [],
   "source": [
    "SVM"
   ]
  },
  {
   "cell_type": "code",
   "execution_count": 48,
   "id": "67cb8461-adbf-4ced-a063-890e09d3eead",
   "metadata": {},
   "outputs": [],
   "source": [
    "from sklearn import svm\n",
    "\n",
    "sv = svm.SVC(kernel='linear')\n",
    "\n",
    "sv.fit(X_train, Y_train)\n",
    "\n",
    "Y_pred_svm = sv.predict(X_test)"
   ]
  },
  {
   "cell_type": "code",
   "execution_count": 49,
   "id": "8770fdd2-1da3-47f8-994a-862cc93ce36d",
   "metadata": {},
   "outputs": [
    {
     "data": {
      "text/plain": [
       "(61,)"
      ]
     },
     "execution_count": 49,
     "metadata": {},
     "output_type": "execute_result"
    }
   ],
   "source": [
    "Y_pred_svm.shape"
   ]
  },
  {
   "cell_type": "code",
   "execution_count": 50,
   "id": "a6381336-7336-4828-944c-3fdcdfc6eff6",
   "metadata": {},
   "outputs": [
    {
     "name": "stdout",
     "output_type": "stream",
     "text": [
      "The accuracy score achieved using Linear SVM is: 81.97 %\n"
     ]
    }
   ],
   "source": [
    "score_svm = round(accuracy_score(Y_pred_svm,Y_test)*100,2)\n",
    "\n",
    "print(\"The accuracy score achieved using Linear SVM is: \"+str(score_svm)+\" %\")"
   ]
  },
  {
   "cell_type": "code",
   "execution_count": null,
   "id": "6b6d6136-5ea3-4159-b08d-c8af66866cb1",
   "metadata": {},
   "outputs": [],
   "source": [
    "K Nearest Neighbors"
   ]
  },
  {
   "cell_type": "code",
   "execution_count": 51,
   "id": "28c28269-512f-4e76-9c16-0d1049b985ca",
   "metadata": {},
   "outputs": [],
   "source": [
    "from sklearn.neighbors import KNeighborsClassifier\n",
    "\n",
    "knn = KNeighborsClassifier(n_neighbors=7)\n",
    "knn.fit(X_train,Y_train)\n",
    "Y_pred_knn=knn.predict(X_test)"
   ]
  },
  {
   "cell_type": "code",
   "execution_count": 52,
   "id": "d1df919e-3939-425a-946d-9a6a64cdffec",
   "metadata": {},
   "outputs": [
    {
     "data": {
      "text/plain": [
       "(61,)"
      ]
     },
     "execution_count": 52,
     "metadata": {},
     "output_type": "execute_result"
    }
   ],
   "source": [
    "Y_pred_knn.shape"
   ]
  },
  {
   "cell_type": "code",
   "execution_count": 53,
   "id": "99a0c96e-4bac-4b42-bdf0-69c1842e6b83",
   "metadata": {},
   "outputs": [
    {
     "name": "stdout",
     "output_type": "stream",
     "text": [
      "The accuracy score achieved using KNN is: 67.21 %\n"
     ]
    }
   ],
   "source": [
    "score_knn = round(accuracy_score(Y_pred_knn,Y_test)*100,2)\n",
    "\n",
    "print(\"The accuracy score achieved using KNN is: \"+str(score_knn)+\" %\")"
   ]
  },
  {
   "cell_type": "code",
   "execution_count": null,
   "id": "953da9b1-4dbc-4a5f-b1f3-9c4103a61930",
   "metadata": {},
   "outputs": [],
   "source": [
    "Decision Tree"
   ]
  },
  {
   "cell_type": "code",
   "execution_count": 54,
   "id": "c07c71bc-a2c9-4747-af8d-798edf8456bc",
   "metadata": {},
   "outputs": [],
   "source": [
    "from sklearn.tree import DecisionTreeClassifier\n",
    "max_accuracy = 0\n",
    "for x in range(200):\n",
    "    dt = DecisionTreeClassifier(random_state=x)\n",
    "    dt.fit(X_train,Y_train)\n",
    "    Y_pred_dt = dt.predict(X_test)\n",
    "    current_accuracy = round(accuracy_score(Y_pred_dt,Y_test)*100,2)\n",
    "    if(current_accuracy>max_accuracy):\n",
    "        max_accuracy = current_accuracy\n",
    "        best_x = x\n",
    "dt = DecisionTreeClassifier(random_state=best_x)\n",
    "dt.fit(X_train,Y_train)\n",
    "Y_pred_dt = dt.predict(X_test)"
   ]
  },
  {
   "cell_type": "code",
   "execution_count": 55,
   "id": "5fd17036-569b-4def-961a-3a63475a2470",
   "metadata": {},
   "outputs": [
    {
     "name": "stdout",
     "output_type": "stream",
     "text": [
      "(61,)\n"
     ]
    }
   ],
   "source": [
    "print(Y_pred_dt.shape)"
   ]
  },
  {
   "cell_type": "code",
   "execution_count": 56,
   "id": "14d9f6d9-442e-44f8-8734-229c16bddefd",
   "metadata": {},
   "outputs": [
    {
     "name": "stdout",
     "output_type": "stream",
     "text": [
      "The accuracy score achieved using Decision Tree is: 81.97 %\n"
     ]
    }
   ],
   "source": [
    "score_dt = round(accuracy_score(Y_pred_dt,Y_test)*100,2)\n",
    "print(\"The accuracy score achieved using Decision Tree is: \"+str(score_dt)+\" %\")"
   ]
  },
  {
   "cell_type": "code",
   "execution_count": null,
   "id": "a27d886d-f3a0-453a-985d-764a3a006588",
   "metadata": {},
   "outputs": [],
   "source": [
    "Random Forest"
   ]
  },
  {
   "cell_type": "code",
   "execution_count": 57,
   "id": "54b1fd8d-04bf-4c8e-b6df-8e0f070a51e2",
   "metadata": {},
   "outputs": [],
   "source": [
    "from sklearn.ensemble import RandomForestClassifier\n",
    "\n",
    "max_accuracy = 0\n",
    "\n",
    "\n",
    "for x in range(2000):\n",
    "    rf = RandomForestClassifier(random_state=x)\n",
    "    rf.fit(X_train,Y_train)\n",
    "    Y_pred_rf = rf.predict(X_test)\n",
    "    current_accuracy = round(accuracy_score(Y_pred_rf,Y_test)*100,2)\n",
    "    if(current_accuracy>max_accuracy):\n",
    "        max_accuracy = current_accuracy\n",
    "        best_x = x\n",
    "\n",
    "\n",
    "rf = RandomForestClassifier(random_state=best_x)\n",
    "rf.fit(X_train,Y_train)\n",
    "Y_pred_rf = rf.predict(X_test)"
   ]
  },
  {
   "cell_type": "code",
   "execution_count": 58,
   "id": "3470f173-7d84-4cf1-85af-20f8df9e7d5d",
   "metadata": {},
   "outputs": [
    {
     "data": {
      "text/plain": [
       "(61,)"
      ]
     },
     "execution_count": 58,
     "metadata": {},
     "output_type": "execute_result"
    }
   ],
   "source": [
    "Y_pred_rf.shape"
   ]
  },
  {
   "cell_type": "code",
   "execution_count": 59,
   "id": "59f500a1-d1f7-4bd0-90f4-92eff223fba7",
   "metadata": {},
   "outputs": [
    {
     "name": "stdout",
     "output_type": "stream",
     "text": [
      "The accuracy score achieved using Decision Tree is: 90.16 %\n"
     ]
    }
   ],
   "source": [
    "score_rf = round(accuracy_score(Y_pred_rf,Y_test)*100,2)\n",
    "print(\"The accuracy score achieved using Decision Tree is: \"+str(score_rf)+\" %\")"
   ]
  },
  {
   "cell_type": "code",
   "execution_count": 60,
   "id": "1739cd2d-5e45-4ec4-9044-b2147b7f9936",
   "metadata": {},
   "outputs": [
    {
     "name": "stdout",
     "output_type": "stream",
     "text": [
      "a\n"
     ]
    }
   ],
   "source": [
    "XGBoost"
   ]
  },
  {
   "cell_type": "code",
   "execution_count": 62,
   "id": "2742dc0f-6a45-41fd-987f-57a311ba47c2",
   "metadata": {},
   "outputs": [],
   "source": [
    "import xgboost as xgb\n",
    "xgb_model = xgb.XGBClassifier(objective=\"binary:logistic\", random_state=42)\n",
    "xgb_model.fit(X_train, Y_train)\n",
    "Y_pred_xgb = xgb_model.predict(X_test)"
   ]
  },
  {
   "cell_type": "code",
   "execution_count": 63,
   "id": "7cea6ead-1e40-43ab-9e72-cdbd0cd242ff",
   "metadata": {},
   "outputs": [
    {
     "data": {
      "text/plain": [
       "(61,)"
      ]
     },
     "execution_count": 63,
     "metadata": {},
     "output_type": "execute_result"
    }
   ],
   "source": [
    "Y_pred_xgb.shape"
   ]
  },
  {
   "cell_type": "code",
   "execution_count": 64,
   "id": "35402242-c4cd-44a5-8772-cc0a5713c673",
   "metadata": {},
   "outputs": [
    {
     "name": "stdout",
     "output_type": "stream",
     "text": [
      "The accuracy score achieved using XGBoost is: 83.61 %\n"
     ]
    }
   ],
   "source": [
    "score_xgb = round(accuracy_score(Y_pred_xgb,Y_test)*100,2)\n",
    "print(\"The accuracy score achieved using XGBoost is: \"+str(score_xgb)+\" %\")"
   ]
  },
  {
   "cell_type": "code",
   "execution_count": 65,
   "id": "b1a22067-a111-4a19-bd16-d00e57e8771e",
   "metadata": {},
   "outputs": [
    {
     "name": "stdout",
     "output_type": "stream",
     "text": [
      "WARNING:tensorflow:From C:\\Users\\hp\\AppData\\Local\\Programs\\Python\\Python311\\Lib\\site-packages\\keras\\src\\losses.py:2976: The name tf.losses.sparse_softmax_cross_entropy is deprecated. Please use tf.compat.v1.losses.sparse_softmax_cross_entropy instead.\n",
      "\n"
     ]
    }
   ],
   "source": [
    "from keras.models import Sequential\n",
    "from keras.layers import Dense"
   ]
  },
  {
   "cell_type": "code",
   "execution_count": 66,
   "id": "e6631964-5453-4e2a-8a10-fd7a053563ff",
   "metadata": {},
   "outputs": [
    {
     "name": "stdout",
     "output_type": "stream",
     "text": [
      "WARNING:tensorflow:From C:\\Users\\hp\\AppData\\Local\\Programs\\Python\\Python311\\Lib\\site-packages\\keras\\src\\backend.py:873: The name tf.get_default_graph is deprecated. Please use tf.compat.v1.get_default_graph instead.\n",
      "\n",
      "WARNING:tensorflow:From C:\\Users\\hp\\AppData\\Local\\Programs\\Python\\Python311\\Lib\\site-packages\\keras\\src\\optimizers\\__init__.py:309: The name tf.train.Optimizer is deprecated. Please use tf.compat.v1.train.Optimizer instead.\n",
      "\n"
     ]
    }
   ],
   "source": [
    "model = Sequential()\n",
    "model.add(Dense(11,activation='relu',input_dim=13))\n",
    "model.add(Dense(1,activation='sigmoid'))\n",
    "model.compile(loss='binary_crossentropy',optimizer='adam',metrics=['accuracy'])"
   ]
  },
  {
   "cell_type": "code",
   "execution_count": 67,
   "id": "7357e1be-c230-4d0f-a0de-ce552064f4b1",
   "metadata": {},
   "outputs": [
    {
     "name": "stdout",
     "output_type": "stream",
     "text": [
      "Epoch 1/300\n",
      "WARNING:tensorflow:From C:\\Users\\hp\\AppData\\Local\\Programs\\Python\\Python311\\Lib\\site-packages\\keras\\src\\utils\\tf_utils.py:492: The name tf.ragged.RaggedTensorValue is deprecated. Please use tf.compat.v1.ragged.RaggedTensorValue instead.\n",
      "\n",
      "WARNING:tensorflow:From C:\\Users\\hp\\AppData\\Local\\Programs\\Python\\Python311\\Lib\\site-packages\\keras\\src\\engine\\base_layer_utils.py:384: The name tf.executing_eagerly_outside_functions is deprecated. Please use tf.compat.v1.executing_eagerly_outside_functions instead.\n",
      "\n",
      "8/8 [==============================] - 4s 8ms/step - loss: 66.4767 - accuracy: 0.4587\n",
      "Epoch 2/300\n",
      "8/8 [==============================] - 0s 6ms/step - loss: 57.2014 - accuracy: 0.4587\n",
      "Epoch 3/300\n",
      "8/8 [==============================] - 0s 7ms/step - loss: 48.6828 - accuracy: 0.4587\n",
      "Epoch 4/300\n",
      "8/8 [==============================] - 0s 7ms/step - loss: 40.3905 - accuracy: 0.4587\n",
      "Epoch 5/300\n",
      "8/8 [==============================] - 0s 6ms/step - loss: 32.9099 - accuracy: 0.4587\n",
      "Epoch 6/300\n",
      "8/8 [==============================] - 0s 6ms/step - loss: 25.4699 - accuracy: 0.4587\n",
      "Epoch 7/300\n",
      "8/8 [==============================] - 0s 5ms/step - loss: 18.7254 - accuracy: 0.4587\n",
      "Epoch 8/300\n",
      "8/8 [==============================] - 0s 7ms/step - loss: 11.9590 - accuracy: 0.4628\n",
      "Epoch 9/300\n",
      "8/8 [==============================] - 0s 7ms/step - loss: 5.8568 - accuracy: 0.5248\n",
      "Epoch 10/300\n",
      "8/8 [==============================] - 0s 13ms/step - loss: 2.8895 - accuracy: 0.6033\n",
      "Epoch 11/300\n",
      "8/8 [==============================] - 0s 12ms/step - loss: 2.8062 - accuracy: 0.6074\n",
      "Epoch 12/300\n",
      "8/8 [==============================] - 1s 76ms/step - loss: 2.8675 - accuracy: 0.6116\n",
      "Epoch 13/300\n",
      "8/8 [==============================] - 0s 14ms/step - loss: 2.5955 - accuracy: 0.6240\n",
      "Epoch 14/300\n",
      "8/8 [==============================] - 0s 11ms/step - loss: 2.4029 - accuracy: 0.6198\n",
      "Epoch 15/300\n",
      "8/8 [==============================] - 0s 14ms/step - loss: 2.3718 - accuracy: 0.6198\n",
      "Epoch 16/300\n",
      "8/8 [==============================] - 0s 28ms/step - loss: 2.3244 - accuracy: 0.6281\n",
      "Epoch 17/300\n",
      "8/8 [==============================] - 0s 11ms/step - loss: 2.2495 - accuracy: 0.6074\n",
      "Epoch 18/300\n",
      "8/8 [==============================] - 0s 13ms/step - loss: 2.1569 - accuracy: 0.6157\n",
      "Epoch 19/300\n",
      "8/8 [==============================] - 0s 8ms/step - loss: 2.0848 - accuracy: 0.6240\n",
      "Epoch 20/300\n",
      "8/8 [==============================] - 0s 10ms/step - loss: 1.9702 - accuracy: 0.6157\n",
      "Epoch 21/300\n",
      "8/8 [==============================] - 0s 10ms/step - loss: 1.8515 - accuracy: 0.6157\n",
      "Epoch 22/300\n",
      "8/8 [==============================] - 0s 8ms/step - loss: 1.7465 - accuracy: 0.6157\n",
      "Epoch 23/300\n",
      "8/8 [==============================] - 0s 11ms/step - loss: 1.6477 - accuracy: 0.6322\n",
      "Epoch 24/300\n",
      "8/8 [==============================] - 0s 8ms/step - loss: 1.5604 - accuracy: 0.6364\n",
      "Epoch 25/300\n",
      "8/8 [==============================] - 0s 9ms/step - loss: 1.4688 - accuracy: 0.6446\n",
      "Epoch 26/300\n",
      "8/8 [==============================] - 0s 35ms/step - loss: 1.3825 - accuracy: 0.6694\n",
      "Epoch 27/300\n",
      "8/8 [==============================] - 0s 17ms/step - loss: 1.3066 - accuracy: 0.6736\n",
      "Epoch 28/300\n",
      "8/8 [==============================] - 0s 24ms/step - loss: 1.2375 - accuracy: 0.6736\n",
      "Epoch 29/300\n",
      "8/8 [==============================] - 0s 9ms/step - loss: 1.1593 - accuracy: 0.6818\n",
      "Epoch 30/300\n",
      "8/8 [==============================] - 0s 6ms/step - loss: 1.1187 - accuracy: 0.6694\n",
      "Epoch 31/300\n",
      "8/8 [==============================] - 0s 8ms/step - loss: 1.0734 - accuracy: 0.6860\n",
      "Epoch 32/300\n",
      "8/8 [==============================] - 0s 7ms/step - loss: 1.0263 - accuracy: 0.6860\n",
      "Epoch 33/300\n",
      "8/8 [==============================] - 0s 7ms/step - loss: 0.9910 - accuracy: 0.6942\n",
      "Epoch 34/300\n",
      "8/8 [==============================] - 0s 6ms/step - loss: 0.9599 - accuracy: 0.6983\n",
      "Epoch 35/300\n",
      "8/8 [==============================] - 0s 6ms/step - loss: 0.9231 - accuracy: 0.7066\n",
      "Epoch 36/300\n",
      "8/8 [==============================] - 0s 7ms/step - loss: 0.8923 - accuracy: 0.7066\n",
      "Epoch 37/300\n",
      "8/8 [==============================] - 0s 11ms/step - loss: 0.8816 - accuracy: 0.7025\n",
      "Epoch 38/300\n",
      "8/8 [==============================] - 0s 9ms/step - loss: 0.8426 - accuracy: 0.7231\n",
      "Epoch 39/300\n",
      "8/8 [==============================] - 0s 7ms/step - loss: 0.8066 - accuracy: 0.7231\n",
      "Epoch 40/300\n",
      "8/8 [==============================] - 0s 7ms/step - loss: 0.8097 - accuracy: 0.6983\n",
      "Epoch 41/300\n",
      "8/8 [==============================] - 0s 9ms/step - loss: 0.7846 - accuracy: 0.7231\n",
      "Epoch 42/300\n",
      "8/8 [==============================] - 0s 8ms/step - loss: 0.7396 - accuracy: 0.7107\n",
      "Epoch 43/300\n",
      "8/8 [==============================] - 0s 9ms/step - loss: 0.7359 - accuracy: 0.7149\n",
      "Epoch 44/300\n",
      "8/8 [==============================] - 0s 9ms/step - loss: 0.7173 - accuracy: 0.7190\n",
      "Epoch 45/300\n",
      "8/8 [==============================] - 0s 13ms/step - loss: 0.6913 - accuracy: 0.7314\n",
      "Epoch 46/300\n",
      "8/8 [==============================] - 0s 13ms/step - loss: 0.6768 - accuracy: 0.7149\n",
      "Epoch 47/300\n",
      "8/8 [==============================] - 0s 17ms/step - loss: 0.6626 - accuracy: 0.7314\n",
      "Epoch 48/300\n",
      "8/8 [==============================] - 0s 12ms/step - loss: 0.6623 - accuracy: 0.7314\n",
      "Epoch 49/300\n",
      "8/8 [==============================] - 0s 10ms/step - loss: 0.6418 - accuracy: 0.7397\n",
      "Epoch 50/300\n",
      "8/8 [==============================] - 0s 9ms/step - loss: 0.6472 - accuracy: 0.7273\n",
      "Epoch 51/300\n",
      "8/8 [==============================] - 0s 7ms/step - loss: 0.6358 - accuracy: 0.7355\n",
      "Epoch 52/300\n",
      "8/8 [==============================] - 0s 23ms/step - loss: 0.6281 - accuracy: 0.7397\n",
      "Epoch 53/300\n",
      "8/8 [==============================] - 0s 15ms/step - loss: 0.6240 - accuracy: 0.7314\n",
      "Epoch 54/300\n",
      "8/8 [==============================] - 0s 13ms/step - loss: 0.6130 - accuracy: 0.7479\n",
      "Epoch 55/300\n",
      "8/8 [==============================] - 0s 9ms/step - loss: 0.6002 - accuracy: 0.7603\n",
      "Epoch 56/300\n",
      "8/8 [==============================] - 0s 16ms/step - loss: 0.5918 - accuracy: 0.7355\n",
      "Epoch 57/300\n",
      "8/8 [==============================] - 0s 12ms/step - loss: 0.5879 - accuracy: 0.7562\n",
      "Epoch 58/300\n",
      "8/8 [==============================] - 0s 16ms/step - loss: 0.5825 - accuracy: 0.7521\n",
      "Epoch 59/300\n",
      "8/8 [==============================] - 0s 20ms/step - loss: 0.5917 - accuracy: 0.7479\n",
      "Epoch 60/300\n",
      "8/8 [==============================] - 0s 36ms/step - loss: 0.6005 - accuracy: 0.7190\n",
      "Epoch 61/300\n",
      "8/8 [==============================] - 0s 19ms/step - loss: 0.5762 - accuracy: 0.7645\n",
      "Epoch 62/300\n",
      "8/8 [==============================] - 0s 18ms/step - loss: 0.5613 - accuracy: 0.7727\n",
      "Epoch 63/300\n",
      "8/8 [==============================] - 0s 20ms/step - loss: 0.5584 - accuracy: 0.7769\n",
      "Epoch 64/300\n",
      "8/8 [==============================] - 0s 13ms/step - loss: 0.5530 - accuracy: 0.7603\n",
      "Epoch 65/300\n",
      "8/8 [==============================] - 0s 22ms/step - loss: 0.5617 - accuracy: 0.7562\n",
      "Epoch 66/300\n",
      "8/8 [==============================] - 0s 25ms/step - loss: 0.5584 - accuracy: 0.7562\n",
      "Epoch 67/300\n",
      "8/8 [==============================] - 0s 19ms/step - loss: 0.5361 - accuracy: 0.7769\n",
      "Epoch 68/300\n",
      "8/8 [==============================] - 0s 15ms/step - loss: 0.5311 - accuracy: 0.7810\n",
      "Epoch 69/300\n",
      "8/8 [==============================] - 0s 16ms/step - loss: 0.5277 - accuracy: 0.7893\n",
      "Epoch 70/300\n",
      "8/8 [==============================] - 0s 14ms/step - loss: 0.5354 - accuracy: 0.7893\n",
      "Epoch 71/300\n",
      "8/8 [==============================] - 0s 22ms/step - loss: 0.5220 - accuracy: 0.7893\n",
      "Epoch 72/300\n",
      "8/8 [==============================] - 0s 16ms/step - loss: 0.5201 - accuracy: 0.7810\n",
      "Epoch 73/300\n",
      "8/8 [==============================] - 0s 14ms/step - loss: 0.5349 - accuracy: 0.7438\n",
      "Epoch 74/300\n",
      "8/8 [==============================] - 0s 13ms/step - loss: 0.5271 - accuracy: 0.7521\n",
      "Epoch 75/300\n",
      "8/8 [==============================] - 0s 14ms/step - loss: 0.5126 - accuracy: 0.7727\n",
      "Epoch 76/300\n",
      "8/8 [==============================] - 0s 12ms/step - loss: 0.5104 - accuracy: 0.7769\n",
      "Epoch 77/300\n",
      "8/8 [==============================] - 0s 14ms/step - loss: 0.4990 - accuracy: 0.7934\n",
      "Epoch 78/300\n",
      "8/8 [==============================] - 0s 13ms/step - loss: 0.5096 - accuracy: 0.7769\n",
      "Epoch 79/300\n",
      "8/8 [==============================] - 0s 14ms/step - loss: 0.5159 - accuracy: 0.7521\n",
      "Epoch 80/300\n",
      "8/8 [==============================] - 0s 13ms/step - loss: 0.5323 - accuracy: 0.7603\n",
      "Epoch 81/300\n",
      "8/8 [==============================] - 0s 12ms/step - loss: 0.5249 - accuracy: 0.7603\n",
      "Epoch 82/300\n",
      "8/8 [==============================] - 0s 13ms/step - loss: 0.5017 - accuracy: 0.7851\n",
      "Epoch 83/300\n",
      "8/8 [==============================] - 0s 12ms/step - loss: 0.4904 - accuracy: 0.8017\n",
      "Epoch 84/300\n",
      "8/8 [==============================] - 0s 15ms/step - loss: 0.4909 - accuracy: 0.7851\n",
      "Epoch 85/300\n",
      "8/8 [==============================] - 0s 11ms/step - loss: 0.4778 - accuracy: 0.8058\n",
      "Epoch 86/300\n",
      "8/8 [==============================] - 0s 23ms/step - loss: 0.4880 - accuracy: 0.7893\n",
      "Epoch 87/300\n",
      "8/8 [==============================] - 0s 13ms/step - loss: 0.4920 - accuracy: 0.7851\n",
      "Epoch 88/300\n",
      "8/8 [==============================] - 0s 14ms/step - loss: 0.4781 - accuracy: 0.7975\n",
      "Epoch 89/300\n",
      "8/8 [==============================] - 0s 12ms/step - loss: 0.4882 - accuracy: 0.7727\n",
      "Epoch 90/300\n",
      "8/8 [==============================] - 0s 13ms/step - loss: 0.4761 - accuracy: 0.7934\n",
      "Epoch 91/300\n",
      "8/8 [==============================] - 0s 16ms/step - loss: 0.4951 - accuracy: 0.7810\n",
      "Epoch 92/300\n",
      "8/8 [==============================] - 0s 13ms/step - loss: 0.4635 - accuracy: 0.8099\n",
      "Epoch 93/300\n",
      "8/8 [==============================] - 0s 12ms/step - loss: 0.4850 - accuracy: 0.7769\n",
      "Epoch 94/300\n",
      "8/8 [==============================] - 0s 15ms/step - loss: 0.4839 - accuracy: 0.7851\n",
      "Epoch 95/300\n",
      "8/8 [==============================] - 0s 12ms/step - loss: 0.4529 - accuracy: 0.7893\n",
      "Epoch 96/300\n",
      "8/8 [==============================] - 0s 14ms/step - loss: 0.4454 - accuracy: 0.8017\n",
      "Epoch 97/300\n",
      "8/8 [==============================] - 0s 13ms/step - loss: 0.4694 - accuracy: 0.7769\n",
      "Epoch 98/300\n",
      "8/8 [==============================] - 0s 14ms/step - loss: 0.4502 - accuracy: 0.8017\n",
      "Epoch 99/300\n",
      "8/8 [==============================] - 0s 16ms/step - loss: 0.4465 - accuracy: 0.8264\n",
      "Epoch 100/300\n",
      "8/8 [==============================] - 0s 16ms/step - loss: 0.4512 - accuracy: 0.8140\n",
      "Epoch 101/300\n",
      "8/8 [==============================] - 0s 21ms/step - loss: 0.4450 - accuracy: 0.8223\n",
      "Epoch 102/300\n",
      "8/8 [==============================] - 0s 21ms/step - loss: 0.4422 - accuracy: 0.8017\n",
      "Epoch 103/300\n",
      "8/8 [==============================] - 0s 20ms/step - loss: 0.4397 - accuracy: 0.8182\n",
      "Epoch 104/300\n",
      "8/8 [==============================] - 0s 17ms/step - loss: 0.4549 - accuracy: 0.8017\n",
      "Epoch 105/300\n",
      "8/8 [==============================] - 0s 14ms/step - loss: 0.4443 - accuracy: 0.8058\n",
      "Epoch 106/300\n",
      "8/8 [==============================] - 0s 13ms/step - loss: 0.4355 - accuracy: 0.8140\n",
      "Epoch 107/300\n",
      "8/8 [==============================] - 0s 14ms/step - loss: 0.4431 - accuracy: 0.8140\n",
      "Epoch 108/300\n",
      "8/8 [==============================] - 0s 13ms/step - loss: 0.4530 - accuracy: 0.8182\n",
      "Epoch 109/300\n",
      "8/8 [==============================] - 0s 17ms/step - loss: 0.4424 - accuracy: 0.8058\n",
      "Epoch 110/300\n",
      "8/8 [==============================] - 0s 19ms/step - loss: 0.4304 - accuracy: 0.8140\n",
      "Epoch 111/300\n",
      "8/8 [==============================] - 0s 21ms/step - loss: 0.4271 - accuracy: 0.8223\n",
      "Epoch 112/300\n",
      "8/8 [==============================] - 0s 14ms/step - loss: 0.4344 - accuracy: 0.8058\n",
      "Epoch 113/300\n",
      "8/8 [==============================] - 0s 33ms/step - loss: 0.4248 - accuracy: 0.8347\n",
      "Epoch 114/300\n",
      "8/8 [==============================] - 0s 24ms/step - loss: 0.4588 - accuracy: 0.8058\n",
      "Epoch 115/300\n",
      "8/8 [==============================] - 0s 15ms/step - loss: 0.4183 - accuracy: 0.8099\n",
      "Epoch 116/300\n",
      "8/8 [==============================] - 0s 15ms/step - loss: 0.4217 - accuracy: 0.8223\n",
      "Epoch 117/300\n",
      "8/8 [==============================] - 0s 18ms/step - loss: 0.4272 - accuracy: 0.8182\n",
      "Epoch 118/300\n",
      "8/8 [==============================] - 0s 19ms/step - loss: 0.4265 - accuracy: 0.8223\n",
      "Epoch 119/300\n",
      "8/8 [==============================] - 0s 17ms/step - loss: 0.4111 - accuracy: 0.8223\n",
      "Epoch 120/300\n",
      "8/8 [==============================] - 0s 12ms/step - loss: 0.4279 - accuracy: 0.8058\n",
      "Epoch 121/300\n",
      "8/8 [==============================] - 0s 14ms/step - loss: 0.4172 - accuracy: 0.8182\n",
      "Epoch 122/300\n",
      "8/8 [==============================] - 0s 13ms/step - loss: 0.4110 - accuracy: 0.8306\n",
      "Epoch 123/300\n",
      "8/8 [==============================] - 0s 14ms/step - loss: 0.4102 - accuracy: 0.8140\n",
      "Epoch 124/300\n",
      "8/8 [==============================] - 0s 14ms/step - loss: 0.4116 - accuracy: 0.8140\n",
      "Epoch 125/300\n",
      "8/8 [==============================] - 0s 13ms/step - loss: 0.4101 - accuracy: 0.8347\n",
      "Epoch 126/300\n",
      "8/8 [==============================] - 0s 15ms/step - loss: 0.4156 - accuracy: 0.8140\n",
      "Epoch 127/300\n",
      "8/8 [==============================] - 0s 12ms/step - loss: 0.4074 - accuracy: 0.8264\n",
      "Epoch 128/300\n",
      "8/8 [==============================] - 0s 13ms/step - loss: 0.4231 - accuracy: 0.8017\n",
      "Epoch 129/300\n",
      "8/8 [==============================] - 0s 13ms/step - loss: 0.4065 - accuracy: 0.8223\n",
      "Epoch 130/300\n",
      "8/8 [==============================] - 0s 12ms/step - loss: 0.4043 - accuracy: 0.8182\n",
      "Epoch 131/300\n",
      "8/8 [==============================] - 0s 13ms/step - loss: 0.3995 - accuracy: 0.8140\n",
      "Epoch 132/300\n",
      "8/8 [==============================] - 0s 14ms/step - loss: 0.4009 - accuracy: 0.8306\n",
      "Epoch 133/300\n",
      "8/8 [==============================] - 0s 12ms/step - loss: 0.3979 - accuracy: 0.8223\n",
      "Epoch 134/300\n",
      "8/8 [==============================] - 0s 14ms/step - loss: 0.4113 - accuracy: 0.8182\n",
      "Epoch 135/300\n",
      "8/8 [==============================] - 0s 13ms/step - loss: 0.4282 - accuracy: 0.8058\n",
      "Epoch 136/300\n",
      "8/8 [==============================] - 0s 15ms/step - loss: 0.4140 - accuracy: 0.8058\n",
      "Epoch 137/300\n",
      "8/8 [==============================] - 0s 16ms/step - loss: 0.3985 - accuracy: 0.8306\n",
      "Epoch 138/300\n",
      "8/8 [==============================] - 0s 30ms/step - loss: 0.4029 - accuracy: 0.8264\n",
      "Epoch 139/300\n",
      "8/8 [==============================] - 0s 34ms/step - loss: 0.3971 - accuracy: 0.8140\n",
      "Epoch 140/300\n",
      "8/8 [==============================] - 0s 22ms/step - loss: 0.3984 - accuracy: 0.8306\n",
      "Epoch 141/300\n",
      "8/8 [==============================] - 0s 14ms/step - loss: 0.4061 - accuracy: 0.7975\n",
      "Epoch 142/300\n",
      "8/8 [==============================] - 0s 26ms/step - loss: 0.3922 - accuracy: 0.8306\n",
      "Epoch 143/300\n",
      "8/8 [==============================] - 0s 35ms/step - loss: 0.3917 - accuracy: 0.8140\n",
      "Epoch 144/300\n",
      "8/8 [==============================] - 0s 30ms/step - loss: 0.4079 - accuracy: 0.8223\n",
      "Epoch 145/300\n",
      "8/8 [==============================] - 0s 18ms/step - loss: 0.4431 - accuracy: 0.8099\n",
      "Epoch 146/300\n",
      "8/8 [==============================] - 0s 21ms/step - loss: 0.4429 - accuracy: 0.7851\n",
      "Epoch 147/300\n",
      "8/8 [==============================] - 0s 19ms/step - loss: 0.4312 - accuracy: 0.7934\n",
      "Epoch 148/300\n",
      "8/8 [==============================] - 0s 18ms/step - loss: 0.4592 - accuracy: 0.7893\n",
      "Epoch 149/300\n",
      "8/8 [==============================] - 0s 20ms/step - loss: 0.3977 - accuracy: 0.8223\n",
      "Epoch 150/300\n",
      "8/8 [==============================] - 0s 23ms/step - loss: 0.4023 - accuracy: 0.8430\n",
      "Epoch 151/300\n",
      "8/8 [==============================] - 0s 23ms/step - loss: 0.3826 - accuracy: 0.8430\n",
      "Epoch 152/300\n",
      "8/8 [==============================] - 0s 12ms/step - loss: 0.3903 - accuracy: 0.8306\n",
      "Epoch 153/300\n",
      "8/8 [==============================] - 0s 20ms/step - loss: 0.3846 - accuracy: 0.8306\n",
      "Epoch 154/300\n",
      "8/8 [==============================] - 0s 20ms/step - loss: 0.4035 - accuracy: 0.8264\n",
      "Epoch 155/300\n",
      "8/8 [==============================] - 0s 15ms/step - loss: 0.3944 - accuracy: 0.8388\n",
      "Epoch 156/300\n",
      "8/8 [==============================] - 0s 13ms/step - loss: 0.3823 - accuracy: 0.8430\n",
      "Epoch 157/300\n",
      "8/8 [==============================] - 0s 13ms/step - loss: 0.3849 - accuracy: 0.8430\n",
      "Epoch 158/300\n",
      "8/8 [==============================] - 0s 13ms/step - loss: 0.3869 - accuracy: 0.8306\n",
      "Epoch 159/300\n",
      "8/8 [==============================] - 0s 14ms/step - loss: 0.3839 - accuracy: 0.8388\n",
      "Epoch 160/300\n",
      "8/8 [==============================] - 0s 14ms/step - loss: 0.3795 - accuracy: 0.8430\n",
      "Epoch 161/300\n",
      "8/8 [==============================] - 0s 13ms/step - loss: 0.3835 - accuracy: 0.8306\n",
      "Epoch 162/300\n",
      "8/8 [==============================] - 0s 15ms/step - loss: 0.4048 - accuracy: 0.8264\n",
      "Epoch 163/300\n",
      "8/8 [==============================] - 0s 30ms/step - loss: 0.4074 - accuracy: 0.8140\n",
      "Epoch 164/300\n",
      "8/8 [==============================] - 0s 19ms/step - loss: 0.3957 - accuracy: 0.8058\n",
      "Epoch 165/300\n",
      "8/8 [==============================] - 0s 27ms/step - loss: 0.4001 - accuracy: 0.8347\n",
      "Epoch 166/300\n",
      "8/8 [==============================] - 0s 19ms/step - loss: 0.4095 - accuracy: 0.8182\n",
      "Epoch 167/300\n",
      "8/8 [==============================] - 0s 18ms/step - loss: 0.4259 - accuracy: 0.8017\n",
      "Epoch 168/300\n",
      "8/8 [==============================] - 0s 13ms/step - loss: 0.4199 - accuracy: 0.8017\n",
      "Epoch 169/300\n",
      "8/8 [==============================] - 0s 10ms/step - loss: 0.3752 - accuracy: 0.8430\n",
      "Epoch 170/300\n",
      "8/8 [==============================] - 0s 11ms/step - loss: 0.3784 - accuracy: 0.8388\n",
      "Epoch 171/300\n",
      "8/8 [==============================] - 0s 12ms/step - loss: 0.3876 - accuracy: 0.8223\n",
      "Epoch 172/300\n",
      "8/8 [==============================] - 0s 12ms/step - loss: 0.3967 - accuracy: 0.8471\n",
      "Epoch 173/300\n",
      "8/8 [==============================] - 0s 13ms/step - loss: 0.3781 - accuracy: 0.8430\n",
      "Epoch 174/300\n",
      "8/8 [==============================] - 0s 14ms/step - loss: 0.3739 - accuracy: 0.8512\n",
      "Epoch 175/300\n",
      "8/8 [==============================] - 0s 15ms/step - loss: 0.3850 - accuracy: 0.8223\n",
      "Epoch 176/300\n",
      "8/8 [==============================] - 0s 13ms/step - loss: 0.3837 - accuracy: 0.8347\n",
      "Epoch 177/300\n",
      "8/8 [==============================] - 0s 14ms/step - loss: 0.3802 - accuracy: 0.8264\n",
      "Epoch 178/300\n",
      "8/8 [==============================] - 0s 12ms/step - loss: 0.3864 - accuracy: 0.8223\n",
      "Epoch 179/300\n",
      "8/8 [==============================] - 0s 15ms/step - loss: 0.3822 - accuracy: 0.8471\n",
      "Epoch 180/300\n",
      "8/8 [==============================] - 0s 13ms/step - loss: 0.3760 - accuracy: 0.8512\n",
      "Epoch 181/300\n",
      "8/8 [==============================] - 0s 19ms/step - loss: 0.3728 - accuracy: 0.8388\n",
      "Epoch 182/300\n",
      "8/8 [==============================] - 0s 20ms/step - loss: 0.3745 - accuracy: 0.8430\n",
      "Epoch 183/300\n",
      "8/8 [==============================] - 0s 14ms/step - loss: 0.3778 - accuracy: 0.8430\n",
      "Epoch 184/300\n",
      "8/8 [==============================] - 0s 16ms/step - loss: 0.3909 - accuracy: 0.8140\n",
      "Epoch 185/300\n",
      "8/8 [==============================] - 0s 19ms/step - loss: 0.3749 - accuracy: 0.8388\n",
      "Epoch 186/300\n",
      "8/8 [==============================] - 0s 15ms/step - loss: 0.3803 - accuracy: 0.8306\n",
      "Epoch 187/300\n",
      "8/8 [==============================] - 0s 14ms/step - loss: 0.3753 - accuracy: 0.8306\n",
      "Epoch 188/300\n",
      "8/8 [==============================] - 0s 14ms/step - loss: 0.3782 - accuracy: 0.8430\n",
      "Epoch 189/300\n",
      "8/8 [==============================] - 0s 12ms/step - loss: 0.3721 - accuracy: 0.8471\n",
      "Epoch 190/300\n",
      "8/8 [==============================] - 0s 14ms/step - loss: 0.3776 - accuracy: 0.8347\n",
      "Epoch 191/300\n",
      "8/8 [==============================] - 0s 12ms/step - loss: 0.3832 - accuracy: 0.8388\n",
      "Epoch 192/300\n",
      "8/8 [==============================] - 0s 13ms/step - loss: 0.3720 - accuracy: 0.8306\n",
      "Epoch 193/300\n",
      "8/8 [==============================] - 0s 14ms/step - loss: 0.3921 - accuracy: 0.8388\n",
      "Epoch 194/300\n",
      "8/8 [==============================] - 0s 18ms/step - loss: 0.3762 - accuracy: 0.8347\n",
      "Epoch 195/300\n",
      "8/8 [==============================] - 0s 19ms/step - loss: 0.4255 - accuracy: 0.7893\n",
      "Epoch 196/300\n",
      "8/8 [==============================] - 0s 11ms/step - loss: 0.4262 - accuracy: 0.8058\n",
      "Epoch 197/300\n",
      "8/8 [==============================] - 0s 14ms/step - loss: 0.4062 - accuracy: 0.8140\n",
      "Epoch 198/300\n",
      "8/8 [==============================] - 0s 20ms/step - loss: 0.3850 - accuracy: 0.8264\n",
      "Epoch 199/300\n",
      "8/8 [==============================] - 0s 26ms/step - loss: 0.3757 - accuracy: 0.8264\n",
      "Epoch 200/300\n",
      "8/8 [==============================] - 0s 29ms/step - loss: 0.3938 - accuracy: 0.8182\n",
      "Epoch 201/300\n",
      "8/8 [==============================] - 0s 19ms/step - loss: 0.3961 - accuracy: 0.8058\n",
      "Epoch 202/300\n",
      "8/8 [==============================] - 0s 10ms/step - loss: 0.3744 - accuracy: 0.8471\n",
      "Epoch 203/300\n",
      "8/8 [==============================] - 0s 11ms/step - loss: 0.3602 - accuracy: 0.8471\n",
      "Epoch 204/300\n",
      "8/8 [==============================] - 0s 11ms/step - loss: 0.3832 - accuracy: 0.8182\n",
      "Epoch 205/300\n",
      "8/8 [==============================] - 0s 16ms/step - loss: 0.4012 - accuracy: 0.8058\n",
      "Epoch 206/300\n",
      "8/8 [==============================] - 0s 19ms/step - loss: 0.4233 - accuracy: 0.7851\n",
      "Epoch 207/300\n",
      "8/8 [==============================] - 0s 16ms/step - loss: 0.3663 - accuracy: 0.8388\n",
      "Epoch 208/300\n",
      "8/8 [==============================] - 0s 28ms/step - loss: 0.3704 - accuracy: 0.8430\n",
      "Epoch 209/300\n",
      "8/8 [==============================] - 0s 40ms/step - loss: 0.3681 - accuracy: 0.8471\n",
      "Epoch 210/300\n",
      "8/8 [==============================] - 0s 19ms/step - loss: 0.3754 - accuracy: 0.8388\n",
      "Epoch 211/300\n",
      "8/8 [==============================] - 0s 17ms/step - loss: 0.3670 - accuracy: 0.8554\n",
      "Epoch 212/300\n",
      "8/8 [==============================] - 0s 13ms/step - loss: 0.3989 - accuracy: 0.8140\n",
      "Epoch 213/300\n",
      "8/8 [==============================] - 0s 11ms/step - loss: 0.3652 - accuracy: 0.8306\n",
      "Epoch 214/300\n",
      "8/8 [==============================] - 0s 12ms/step - loss: 0.3925 - accuracy: 0.8058\n",
      "Epoch 215/300\n",
      "8/8 [==============================] - 0s 15ms/step - loss: 0.4174 - accuracy: 0.8223\n",
      "Epoch 216/300\n",
      "8/8 [==============================] - 0s 15ms/step - loss: 0.3884 - accuracy: 0.8306\n",
      "Epoch 217/300\n",
      "8/8 [==============================] - 0s 13ms/step - loss: 0.3710 - accuracy: 0.8430\n",
      "Epoch 218/300\n",
      "8/8 [==============================] - 0s 12ms/step - loss: 0.3723 - accuracy: 0.8347\n",
      "Epoch 219/300\n",
      "8/8 [==============================] - 0s 13ms/step - loss: 0.3794 - accuracy: 0.8347\n",
      "Epoch 220/300\n",
      "8/8 [==============================] - 0s 12ms/step - loss: 0.3633 - accuracy: 0.8471\n",
      "Epoch 221/300\n",
      "8/8 [==============================] - 0s 15ms/step - loss: 0.3642 - accuracy: 0.8471\n",
      "Epoch 222/300\n",
      "8/8 [==============================] - 0s 13ms/step - loss: 0.3684 - accuracy: 0.8430\n",
      "Epoch 223/300\n",
      "8/8 [==============================] - 0s 10ms/step - loss: 0.3714 - accuracy: 0.8388\n",
      "Epoch 224/300\n",
      "8/8 [==============================] - 0s 14ms/step - loss: 0.3642 - accuracy: 0.8264\n",
      "Epoch 225/300\n",
      "8/8 [==============================] - 0s 23ms/step - loss: 0.3644 - accuracy: 0.8388\n",
      "Epoch 226/300\n",
      "8/8 [==============================] - 0s 16ms/step - loss: 0.3713 - accuracy: 0.8471\n",
      "Epoch 227/300\n",
      "8/8 [==============================] - 0s 16ms/step - loss: 0.3794 - accuracy: 0.8306\n",
      "Epoch 228/300\n",
      "8/8 [==============================] - 0s 12ms/step - loss: 0.3668 - accuracy: 0.8471\n",
      "Epoch 229/300\n",
      "8/8 [==============================] - 0s 14ms/step - loss: 0.3805 - accuracy: 0.8306\n",
      "Epoch 230/300\n",
      "8/8 [==============================] - 0s 16ms/step - loss: 0.3761 - accuracy: 0.8264\n",
      "Epoch 231/300\n",
      "8/8 [==============================] - 0s 16ms/step - loss: 0.3666 - accuracy: 0.8388\n",
      "Epoch 232/300\n",
      "8/8 [==============================] - 0s 14ms/step - loss: 0.3670 - accuracy: 0.8347\n",
      "Epoch 233/300\n",
      "8/8 [==============================] - 0s 14ms/step - loss: 0.3718 - accuracy: 0.8554\n",
      "Epoch 234/300\n",
      "8/8 [==============================] - 0s 13ms/step - loss: 0.3823 - accuracy: 0.8223\n",
      "Epoch 235/300\n",
      "8/8 [==============================] - 0s 16ms/step - loss: 0.3952 - accuracy: 0.8182\n",
      "Epoch 236/300\n",
      "8/8 [==============================] - 0s 14ms/step - loss: 0.3848 - accuracy: 0.8347\n",
      "Epoch 237/300\n",
      "8/8 [==============================] - 0s 14ms/step - loss: 0.3935 - accuracy: 0.8017\n",
      "Epoch 238/300\n",
      "8/8 [==============================] - 0s 20ms/step - loss: 0.3887 - accuracy: 0.8058\n",
      "Epoch 239/300\n",
      "8/8 [==============================] - 0s 12ms/step - loss: 0.3651 - accuracy: 0.8306\n",
      "Epoch 240/300\n",
      "8/8 [==============================] - 0s 12ms/step - loss: 0.3691 - accuracy: 0.8388\n",
      "Epoch 241/300\n",
      "8/8 [==============================] - 0s 15ms/step - loss: 0.3699 - accuracy: 0.8430\n",
      "Epoch 242/300\n",
      "8/8 [==============================] - 0s 15ms/step - loss: 0.3638 - accuracy: 0.8264\n",
      "Epoch 243/300\n",
      "8/8 [==============================] - 0s 11ms/step - loss: 0.3702 - accuracy: 0.8388\n",
      "Epoch 244/300\n",
      "8/8 [==============================] - 0s 15ms/step - loss: 0.3713 - accuracy: 0.8430\n",
      "Epoch 245/300\n",
      "8/8 [==============================] - 0s 13ms/step - loss: 0.3861 - accuracy: 0.8099\n",
      "Epoch 246/300\n",
      "8/8 [==============================] - 0s 25ms/step - loss: 0.3702 - accuracy: 0.8471\n",
      "Epoch 247/300\n",
      "8/8 [==============================] - 0s 17ms/step - loss: 0.3730 - accuracy: 0.8554\n",
      "Epoch 248/300\n",
      "8/8 [==============================] - 0s 13ms/step - loss: 0.3696 - accuracy: 0.8388\n",
      "Epoch 249/300\n",
      "8/8 [==============================] - 0s 14ms/step - loss: 0.3646 - accuracy: 0.8264\n",
      "Epoch 250/300\n",
      "8/8 [==============================] - 0s 11ms/step - loss: 0.3587 - accuracy: 0.8554\n",
      "Epoch 251/300\n",
      "8/8 [==============================] - 0s 18ms/step - loss: 0.3642 - accuracy: 0.8430\n",
      "Epoch 252/300\n",
      "8/8 [==============================] - 0s 15ms/step - loss: 0.3576 - accuracy: 0.8471\n",
      "Epoch 253/300\n",
      "8/8 [==============================] - 0s 13ms/step - loss: 0.3743 - accuracy: 0.8471\n",
      "Epoch 254/300\n",
      "8/8 [==============================] - 0s 12ms/step - loss: 0.3870 - accuracy: 0.8388\n",
      "Epoch 255/300\n",
      "8/8 [==============================] - 0s 14ms/step - loss: 0.4082 - accuracy: 0.8140\n",
      "Epoch 256/300\n",
      "8/8 [==============================] - 0s 12ms/step - loss: 0.3650 - accuracy: 0.8182\n",
      "Epoch 257/300\n",
      "8/8 [==============================] - 0s 13ms/step - loss: 0.3679 - accuracy: 0.8512\n",
      "Epoch 258/300\n",
      "8/8 [==============================] - 0s 13ms/step - loss: 0.3597 - accuracy: 0.8388\n",
      "Epoch 259/300\n",
      "8/8 [==============================] - 0s 14ms/step - loss: 0.3590 - accuracy: 0.8388\n",
      "Epoch 260/300\n",
      "8/8 [==============================] - 0s 14ms/step - loss: 0.3742 - accuracy: 0.8306\n",
      "Epoch 261/300\n",
      "8/8 [==============================] - 0s 14ms/step - loss: 0.3839 - accuracy: 0.8264\n",
      "Epoch 262/300\n",
      "8/8 [==============================] - 0s 12ms/step - loss: 0.3598 - accuracy: 0.8430\n",
      "Epoch 263/300\n",
      "8/8 [==============================] - 0s 13ms/step - loss: 0.3875 - accuracy: 0.8388\n",
      "Epoch 264/300\n",
      "8/8 [==============================] - 0s 14ms/step - loss: 0.3738 - accuracy: 0.8512\n",
      "Epoch 265/300\n",
      "8/8 [==============================] - 0s 15ms/step - loss: 0.3680 - accuracy: 0.8388\n",
      "Epoch 266/300\n",
      "8/8 [==============================] - 0s 13ms/step - loss: 0.3594 - accuracy: 0.8388\n",
      "Epoch 267/300\n",
      "8/8 [==============================] - 0s 16ms/step - loss: 0.3871 - accuracy: 0.8264\n",
      "Epoch 268/300\n",
      "8/8 [==============================] - 0s 12ms/step - loss: 0.4183 - accuracy: 0.8223\n",
      "Epoch 269/300\n",
      "8/8 [==============================] - 0s 12ms/step - loss: 0.4123 - accuracy: 0.7975\n",
      "Epoch 270/300\n",
      "8/8 [==============================] - 0s 10ms/step - loss: 0.3679 - accuracy: 0.8678\n",
      "Epoch 271/300\n",
      "8/8 [==============================] - 0s 8ms/step - loss: 0.3655 - accuracy: 0.8388\n",
      "Epoch 272/300\n",
      "8/8 [==============================] - 0s 11ms/step - loss: 0.3580 - accuracy: 0.8388\n",
      "Epoch 273/300\n",
      "8/8 [==============================] - 0s 12ms/step - loss: 0.3686 - accuracy: 0.8471\n",
      "Epoch 274/300\n",
      "8/8 [==============================] - 0s 12ms/step - loss: 0.3743 - accuracy: 0.8388\n",
      "Epoch 275/300\n",
      "8/8 [==============================] - 0s 17ms/step - loss: 0.3595 - accuracy: 0.8182\n",
      "Epoch 276/300\n",
      "8/8 [==============================] - 0s 13ms/step - loss: 0.3696 - accuracy: 0.8347\n",
      "Epoch 277/300\n",
      "8/8 [==============================] - 0s 14ms/step - loss: 0.3689 - accuracy: 0.8388\n",
      "Epoch 278/300\n",
      "8/8 [==============================] - 0s 13ms/step - loss: 0.3552 - accuracy: 0.8512\n",
      "Epoch 279/300\n",
      "8/8 [==============================] - 0s 14ms/step - loss: 0.3725 - accuracy: 0.8306\n",
      "Epoch 280/300\n",
      "8/8 [==============================] - 0s 15ms/step - loss: 0.3603 - accuracy: 0.8471\n",
      "Epoch 281/300\n",
      "8/8 [==============================] - 0s 16ms/step - loss: 0.3616 - accuracy: 0.8512\n",
      "Epoch 282/300\n",
      "8/8 [==============================] - 0s 12ms/step - loss: 0.3670 - accuracy: 0.8430\n",
      "Epoch 283/300\n",
      "8/8 [==============================] - 0s 15ms/step - loss: 0.3805 - accuracy: 0.8264\n",
      "Epoch 284/300\n",
      "8/8 [==============================] - 0s 13ms/step - loss: 0.3599 - accuracy: 0.8430\n",
      "Epoch 285/300\n",
      "8/8 [==============================] - 0s 15ms/step - loss: 0.3627 - accuracy: 0.8306\n",
      "Epoch 286/300\n",
      "8/8 [==============================] - 0s 15ms/step - loss: 0.3826 - accuracy: 0.8306\n",
      "Epoch 287/300\n",
      "8/8 [==============================] - 0s 13ms/step - loss: 0.3681 - accuracy: 0.8306\n",
      "Epoch 288/300\n",
      "8/8 [==============================] - 0s 15ms/step - loss: 0.3676 - accuracy: 0.8471\n",
      "Epoch 289/300\n",
      "8/8 [==============================] - 0s 19ms/step - loss: 0.3699 - accuracy: 0.8347\n",
      "Epoch 290/300\n",
      "8/8 [==============================] - 0s 20ms/step - loss: 0.3798 - accuracy: 0.8264\n",
      "Epoch 291/300\n",
      "8/8 [==============================] - 0s 23ms/step - loss: 0.3536 - accuracy: 0.8471\n",
      "Epoch 292/300\n",
      "8/8 [==============================] - 0s 26ms/step - loss: 0.3668 - accuracy: 0.8430\n",
      "Epoch 293/300\n",
      "8/8 [==============================] - 0s 24ms/step - loss: 0.3656 - accuracy: 0.8430\n",
      "Epoch 294/300\n",
      "8/8 [==============================] - 0s 18ms/step - loss: 0.4020 - accuracy: 0.8140\n",
      "Epoch 295/300\n",
      "8/8 [==============================] - 0s 13ms/step - loss: 0.3663 - accuracy: 0.8595\n",
      "Epoch 296/300\n",
      "8/8 [==============================] - 0s 15ms/step - loss: 0.3636 - accuracy: 0.8430\n",
      "Epoch 297/300\n",
      "8/8 [==============================] - 0s 13ms/step - loss: 0.3597 - accuracy: 0.8430\n",
      "Epoch 298/300\n",
      "8/8 [==============================] - 0s 14ms/step - loss: 0.3596 - accuracy: 0.8430\n",
      "Epoch 299/300\n",
      "8/8 [==============================] - 0s 13ms/step - loss: 0.3574 - accuracy: 0.8512\n",
      "Epoch 300/300\n",
      "8/8 [==============================] - 0s 12ms/step - loss: 0.3548 - accuracy: 0.8471\n"
     ]
    },
    {
     "data": {
      "text/plain": [
       "<keras.src.callbacks.History at 0x1d95f9bda50>"
      ]
     },
     "execution_count": 67,
     "metadata": {},
     "output_type": "execute_result"
    }
   ],
   "source": [
    "model.fit(X_train,Y_train,epochs=300)"
   ]
  },
  {
   "cell_type": "code",
   "execution_count": 68,
   "id": "aa91ccc0-9125-41ff-91ba-27d2550febc4",
   "metadata": {},
   "outputs": [
    {
     "name": "stdout",
     "output_type": "stream",
     "text": [
      "2/2 [==============================] - 1s 18ms/step\n"
     ]
    }
   ],
   "source": [
    "Y_pred_nn = model.predict(X_test)"
   ]
  },
  {
   "cell_type": "code",
   "execution_count": 69,
   "id": "7d9a1610-c80a-46e0-90e5-cda579a562eb",
   "metadata": {},
   "outputs": [
    {
     "data": {
      "text/plain": [
       "(61, 1)"
      ]
     },
     "execution_count": 69,
     "metadata": {},
     "output_type": "execute_result"
    }
   ],
   "source": [
    "Y_pred_nn.shape"
   ]
  },
  {
   "cell_type": "code",
   "execution_count": 70,
   "id": "25cdca9f-5a78-486b-ab78-2a91f2d4a2b8",
   "metadata": {},
   "outputs": [
    {
     "name": "stdout",
     "output_type": "stream",
     "text": [
      "The accuracy score achieved using Neural Network is: 81.97 %\n"
     ]
    }
   ],
   "source": [
    "rounded = [round(x[0]) for x in Y_pred_nn]\n",
    "Y_pred_nn = rounded\n",
    "score_nn = round(accuracy_score(Y_pred_nn,Y_test)*100,2)\n",
    "\n",
    "print(\"The accuracy score achieved using Neural Network is: \"+str(score_nn)+\" %\")\n"
   ]
  },
  {
   "cell_type": "code",
   "execution_count": 71,
   "id": "52a8b3dc-86e3-4b15-a508-ca19b1585c66",
   "metadata": {},
   "outputs": [
    {
     "name": "stdout",
     "output_type": "stream",
     "text": [
      "The accuracy score achieved using Logistic Regression is: 85.25 %\n",
      "The accuracy score achieved using Naive Bayes is: 85.25 %\n",
      "The accuracy score achieved using Support Vector Machine is: 81.97 %\n",
      "The accuracy score achieved using K-Nearest Neighbors is: 67.21 %\n",
      "The accuracy score achieved using Decision Tree is: 81.97 %\n",
      "The accuracy score achieved using Random Forest is: 90.16 %\n",
      "The accuracy score achieved using XGBoost is: 83.61 %\n",
      "The accuracy score achieved using Neural Network is: 81.97 %\n"
     ]
    }
   ],
   "source": [
    "scores = [score_lr,score_nb,score_svm,score_knn,score_dt,score_rf,score_xgb,score_nn]\n",
    "algorithms = [\"Logistic Regression\",\"Naive Bayes\",\"Support Vector Machine\",\"K-Nearest Neighbors\",\"Decision Tree\",\"Random Forest\",\"XGBoost\",\"Neural Network\"]    \n",
    "\n",
    "for i in range(len(algorithms)):\n",
    "    print(\"The accuracy score achieved using \"+algorithms[i]+\" is: \"+str(scores[i])+\" %\")"
   ]
  },
  {
   "cell_type": "code",
   "execution_count": 74,
   "id": "58677fcb-1a69-438d-a8bc-31909ecef792",
   "metadata": {},
   "outputs": [
    {
     "name": "stdout",
     "output_type": "stream",
     "text": [
      "[85.25, 85.25, 81.97, 67.21, 81.97, 90.16, 83.61, 81.97]\n"
     ]
    }
   ],
   "source": [
    "print(scores)"
   ]
  },
  {
   "cell_type": "code",
   "execution_count": 76,
   "id": "9b5f53ce-3ef2-4f2b-9610-83c913a21caa",
   "metadata": {},
   "outputs": [
    {
     "name": "stdout",
     "output_type": "stream",
     "text": [
      "['Logistic Regression', 'Naive Bayes', 'Support Vector Machine', 'K-Nearest Neighbors', 'Decision Tree', 'Random Forest', 'XGBoost', 'Neural Network']\n"
     ]
    }
   ],
   "source": [
    "print(algorithms)"
   ]
  },
  {
   "cell_type": "code",
   "execution_count": 81,
   "id": "20995bb8-1923-4821-89da-4ec8cf901203",
   "metadata": {},
   "outputs": [],
   "source": [
    "data = pd.DataFrame(algorithms, scores)\n"
   ]
  },
  {
   "cell_type": "code",
   "execution_count": 85,
   "id": "b33bbc8f-8a41-4916-9753-691cbb2d90e6",
   "metadata": {},
   "outputs": [
    {
     "data": {
      "image/png": "[encoded data removed]",
      "text/plain": [
       "<Figure size 1500x800 with 1 Axes>"
      ]
     },
     "metadata": {},
     "output_type": "display_data"
    }
   ],
   "source": [
    "sns.barplot(x = algorithms, y = scores, data = data)\n",
    "\n",
    "plt.show()"
   ]
  },
  {
   "cell_type": "code",
   "execution_count": 88,
   "id": "d93e85e5-383e-440a-9e92-e5e2afcd4bc6",
   "metadata": {},
   "outputs": [
    {
     "data": {
      "image/png": "[encoded data removed]",
      "text/plain": [
       "<Figure size 512.222x500 with 1 Axes>"
      ]
     },
     "metadata": {},
     "output_type": "display_data"
    }
   ],
   "source": [
    "sns.catplot(x=algorithms, y=scores, data=data) \n",
    "plt.xlabel(\"algorithms\") \n",
    "plt.ylabel(\"scores\") \n",
    "plt.show()"
   ]
  },
  {
   "cell_type": "code",
   "execution_count": null,
   "id": "96374f68-26e0-4db2-b95e-36d7ba5d13b8",
   "metadata": {},
   "outputs": [],
   "source": []
  }
 ],
 "metadata": {
  "kernelspec": {
   "display_name": "Python 3",
   "language": "python",
   "name": "python3"
  },
  "language_info": {
   "codemirror_mode": {
    "name": "ipython",
    "version": 3
   },
   "file_extension": ".py",
   "mimetype": "text/x-python",
   "name": "python",
   "nbconvert_exporter": "python",
   "pygments_lexer": "ipython3",
   "version": "3.11.5"
  }
 },
 "nbformat": 4,
 "nbformat_minor": 5
}
